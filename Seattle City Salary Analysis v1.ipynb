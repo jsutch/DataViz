{
 "cells": [
  {
   "cell_type": "code",
   "execution_count": 1,
   "metadata": {},
   "outputs": [],
   "source": [
    "\n",
    "\n",
    "# For data\n",
    "import pandas as pd\n",
    "from pandas import Series,DataFrame\n",
    "import numpy as np\n",
    "\n",
    "# For visualization\n",
    "import matplotlib.pyplot as plt\n",
    "import seaborn as sns\n",
    "sns.set_style('whitegrid')\n",
    "%matplotlib inline\n",
    "# other\n",
    "import re\n",
    "\n"
   ]
  },
  {
   "cell_type": "code",
   "execution_count": 2,
   "metadata": {},
   "outputs": [],
   "source": [
    "df = pd.read_csv('City_of_Seattle_Wage_Data.csv')"
   ]
  },
  {
   "cell_type": "code",
   "execution_count": 3,
   "metadata": {},
   "outputs": [
    {
     "name": "stdout",
     "output_type": "stream",
     "text": [
      "<class 'pandas.core.frame.DataFrame'>\n",
      "RangeIndex: 12143 entries, 0 to 12142\n",
      "Data columns (total 5 columns):\n",
      "Department      12143 non-null object\n",
      "Last Name       12143 non-null object\n",
      "First Name      12143 non-null object\n",
      "Job Title       12143 non-null object\n",
      "Hourly Rate     12143 non-null float64\n",
      "dtypes: float64(1), object(4)\n",
      "memory usage: 474.4+ KB\n"
     ]
    }
   ],
   "source": [
    "df.info()"
   ]
  },
  {
   "cell_type": "code",
   "execution_count": 4,
   "metadata": {},
   "outputs": [
    {
     "data": {
      "text/plain": [
       "Index(['Department', 'Last Name', 'First Name', 'Job Title', 'Hourly Rate '], dtype='object')"
      ]
     },
     "execution_count": 4,
     "metadata": {},
     "output_type": "execute_result"
    }
   ],
   "source": [
    "df.columns"
   ]
  },
  {
   "cell_type": "code",
   "execution_count": 5,
   "metadata": {},
   "outputs": [
    {
     "data": {
      "text/html": [
       "<div>\n",
       "<style scoped>\n",
       "    .dataframe tbody tr th:only-of-type {\n",
       "        vertical-align: middle;\n",
       "    }\n",
       "\n",
       "    .dataframe tbody tr th {\n",
       "        vertical-align: top;\n",
       "    }\n",
       "\n",
       "    .dataframe thead th {\n",
       "        text-align: right;\n",
       "    }\n",
       "</style>\n",
       "<table border=\"1\" class=\"dataframe\">\n",
       "  <thead>\n",
       "    <tr style=\"text-align: right;\">\n",
       "      <th></th>\n",
       "      <th>Department</th>\n",
       "      <th>Last Name</th>\n",
       "      <th>First Name</th>\n",
       "      <th>Job Title</th>\n",
       "      <th>Hourly Rate</th>\n",
       "    </tr>\n",
       "  </thead>\n",
       "  <tbody>\n",
       "    <tr>\n",
       "      <th>0</th>\n",
       "      <td>Police Department</td>\n",
       "      <td>Aagard</td>\n",
       "      <td>Lori</td>\n",
       "      <td>Pol Lieut</td>\n",
       "      <td>80.07</td>\n",
       "    </tr>\n",
       "    <tr>\n",
       "      <th>1</th>\n",
       "      <td>Police Department</td>\n",
       "      <td>Aakervik</td>\n",
       "      <td>Dag</td>\n",
       "      <td>Pol Ofcr-Detective</td>\n",
       "      <td>60.84</td>\n",
       "    </tr>\n",
       "    <tr>\n",
       "      <th>2</th>\n",
       "      <td>Parks &amp; Recreation</td>\n",
       "      <td>Aamot</td>\n",
       "      <td>Allison</td>\n",
       "      <td>Rec Attendant *</td>\n",
       "      <td>17.35</td>\n",
       "    </tr>\n",
       "    <tr>\n",
       "      <th>3</th>\n",
       "      <td>Seattle Public Utilities</td>\n",
       "      <td>Aar</td>\n",
       "      <td>Abdimallik</td>\n",
       "      <td>Civil Engrng Spec,Sr</td>\n",
       "      <td>54.07</td>\n",
       "    </tr>\n",
       "    <tr>\n",
       "      <th>4</th>\n",
       "      <td>Parks &amp; Recreation</td>\n",
       "      <td>Aban</td>\n",
       "      <td>Eduardo</td>\n",
       "      <td>Civil Engr,Sr</td>\n",
       "      <td>58.36</td>\n",
       "    </tr>\n",
       "  </tbody>\n",
       "</table>\n",
       "</div>"
      ],
      "text/plain": [
       "                 Department Last Name  First Name             Job Title  \\\n",
       "0         Police Department    Aagard        Lori             Pol Lieut   \n",
       "1         Police Department  Aakervik         Dag    Pol Ofcr-Detective   \n",
       "2        Parks & Recreation     Aamot     Allison       Rec Attendant *   \n",
       "3  Seattle Public Utilities       Aar  Abdimallik  Civil Engrng Spec,Sr   \n",
       "4        Parks & Recreation      Aban     Eduardo         Civil Engr,Sr   \n",
       "\n",
       "   Hourly Rate   \n",
       "0         80.07  \n",
       "1         60.84  \n",
       "2         17.35  \n",
       "3         54.07  \n",
       "4         58.36  "
      ]
     },
     "execution_count": 5,
     "metadata": {},
     "output_type": "execute_result"
    }
   ],
   "source": [
    "df.head()"
   ]
  },
  {
   "cell_type": "code",
   "execution_count": 8,
   "metadata": {},
   "outputs": [],
   "source": [
    "df['Salary'] = (df['Hourly Rate '] *2) * 1000"
   ]
  },
  {
   "cell_type": "code",
   "execution_count": 10,
   "metadata": {},
   "outputs": [
    {
     "data": {
      "text/html": [
       "<div>\n",
       "<style scoped>\n",
       "    .dataframe tbody tr th:only-of-type {\n",
       "        vertical-align: middle;\n",
       "    }\n",
       "\n",
       "    .dataframe tbody tr th {\n",
       "        vertical-align: top;\n",
       "    }\n",
       "\n",
       "    .dataframe thead th {\n",
       "        text-align: right;\n",
       "    }\n",
       "</style>\n",
       "<table border=\"1\" class=\"dataframe\">\n",
       "  <thead>\n",
       "    <tr style=\"text-align: right;\">\n",
       "      <th></th>\n",
       "      <th>Department</th>\n",
       "      <th>Last Name</th>\n",
       "      <th>First Name</th>\n",
       "      <th>Job Title</th>\n",
       "      <th>Hourly Rate</th>\n",
       "      <th>Salary</th>\n",
       "    </tr>\n",
       "  </thead>\n",
       "  <tbody>\n",
       "    <tr>\n",
       "      <th>0</th>\n",
       "      <td>Police Department</td>\n",
       "      <td>Aagard</td>\n",
       "      <td>Lori</td>\n",
       "      <td>Pol Lieut</td>\n",
       "      <td>80.07</td>\n",
       "      <td>160140.0</td>\n",
       "    </tr>\n",
       "    <tr>\n",
       "      <th>1</th>\n",
       "      <td>Police Department</td>\n",
       "      <td>Aakervik</td>\n",
       "      <td>Dag</td>\n",
       "      <td>Pol Ofcr-Detective</td>\n",
       "      <td>60.84</td>\n",
       "      <td>121680.0</td>\n",
       "    </tr>\n",
       "    <tr>\n",
       "      <th>2</th>\n",
       "      <td>Parks &amp; Recreation</td>\n",
       "      <td>Aamot</td>\n",
       "      <td>Allison</td>\n",
       "      <td>Rec Attendant *</td>\n",
       "      <td>17.35</td>\n",
       "      <td>34700.0</td>\n",
       "    </tr>\n",
       "    <tr>\n",
       "      <th>3</th>\n",
       "      <td>Seattle Public Utilities</td>\n",
       "      <td>Aar</td>\n",
       "      <td>Abdimallik</td>\n",
       "      <td>Civil Engrng Spec,Sr</td>\n",
       "      <td>54.07</td>\n",
       "      <td>108140.0</td>\n",
       "    </tr>\n",
       "    <tr>\n",
       "      <th>4</th>\n",
       "      <td>Parks &amp; Recreation</td>\n",
       "      <td>Aban</td>\n",
       "      <td>Eduardo</td>\n",
       "      <td>Civil Engr,Sr</td>\n",
       "      <td>58.36</td>\n",
       "      <td>116720.0</td>\n",
       "    </tr>\n",
       "    <tr>\n",
       "      <th>5</th>\n",
       "      <td>Seattle Public Utilities</td>\n",
       "      <td>Abanes</td>\n",
       "      <td>Rick</td>\n",
       "      <td>Wtr Treatment Op-WDM I</td>\n",
       "      <td>33.92</td>\n",
       "      <td>67840.0</td>\n",
       "    </tr>\n",
       "    <tr>\n",
       "      <th>6</th>\n",
       "      <td>Seattle City Light</td>\n",
       "      <td>Abarca</td>\n",
       "      <td>Fredy</td>\n",
       "      <td>Pwr Structs Mechanic</td>\n",
       "      <td>44.67</td>\n",
       "      <td>89340.0</td>\n",
       "    </tr>\n",
       "    <tr>\n",
       "      <th>7</th>\n",
       "      <td>Seattle Public Utilities</td>\n",
       "      <td>Abatayo</td>\n",
       "      <td>Adora</td>\n",
       "      <td>Util Act Rep I</td>\n",
       "      <td>28.11</td>\n",
       "      <td>56220.0</td>\n",
       "    </tr>\n",
       "    <tr>\n",
       "      <th>8</th>\n",
       "      <td>Seattle Dept of Transportation</td>\n",
       "      <td>Abayneh</td>\n",
       "      <td>Haregewoyen</td>\n",
       "      <td>Engrng Aide *</td>\n",
       "      <td>31.18</td>\n",
       "      <td>62360.0</td>\n",
       "    </tr>\n",
       "    <tr>\n",
       "      <th>9</th>\n",
       "      <td>Seattle City Light</td>\n",
       "      <td>Abbott</td>\n",
       "      <td>Jeremy</td>\n",
       "      <td>Elecl Work Rev CC</td>\n",
       "      <td>57.62</td>\n",
       "      <td>115240.0</td>\n",
       "    </tr>\n",
       "  </tbody>\n",
       "</table>\n",
       "</div>"
      ],
      "text/plain": [
       "                       Department Last Name   First Name  \\\n",
       "0               Police Department    Aagard         Lori   \n",
       "1               Police Department  Aakervik          Dag   \n",
       "2              Parks & Recreation     Aamot      Allison   \n",
       "3        Seattle Public Utilities       Aar   Abdimallik   \n",
       "4              Parks & Recreation      Aban      Eduardo   \n",
       "5        Seattle Public Utilities    Abanes         Rick   \n",
       "6              Seattle City Light    Abarca        Fredy   \n",
       "7        Seattle Public Utilities   Abatayo        Adora   \n",
       "8  Seattle Dept of Transportation   Abayneh  Haregewoyen   \n",
       "9              Seattle City Light    Abbott       Jeremy   \n",
       "\n",
       "                Job Title  Hourly Rate     Salary  \n",
       "0               Pol Lieut         80.07  160140.0  \n",
       "1      Pol Ofcr-Detective         60.84  121680.0  \n",
       "2         Rec Attendant *         17.35   34700.0  \n",
       "3    Civil Engrng Spec,Sr         54.07  108140.0  \n",
       "4           Civil Engr,Sr         58.36  116720.0  \n",
       "5  Wtr Treatment Op-WDM I         33.92   67840.0  \n",
       "6    Pwr Structs Mechanic         44.67   89340.0  \n",
       "7          Util Act Rep I         28.11   56220.0  \n",
       "8           Engrng Aide *         31.18   62360.0  \n",
       "9       Elecl Work Rev CC         57.62  115240.0  "
      ]
     },
     "execution_count": 10,
     "metadata": {},
     "output_type": "execute_result"
    }
   ],
   "source": [
    "df.head(10)"
   ]
  },
  {
   "cell_type": "code",
   "execution_count": 100,
   "metadata": {},
   "outputs": [
    {
     "data": {
      "text/html": [
       "<div>\n",
       "<style scoped>\n",
       "    .dataframe tbody tr th:only-of-type {\n",
       "        vertical-align: middle;\n",
       "    }\n",
       "\n",
       "    .dataframe tbody tr th {\n",
       "        vertical-align: top;\n",
       "    }\n",
       "\n",
       "    .dataframe thead th {\n",
       "        text-align: right;\n",
       "    }\n",
       "</style>\n",
       "<table border=\"1\" class=\"dataframe\">\n",
       "  <thead>\n",
       "    <tr style=\"text-align: right;\">\n",
       "      <th></th>\n",
       "      <th>Department</th>\n",
       "      <th>Last Name</th>\n",
       "      <th>First Name</th>\n",
       "      <th>Job Title</th>\n",
       "      <th>Hourly Rate</th>\n",
       "      <th>Salary</th>\n",
       "      <th>Fire</th>\n",
       "      <th>Police</th>\n",
       "      <th>Chief</th>\n",
       "    </tr>\n",
       "  </thead>\n",
       "  <tbody>\n",
       "    <tr>\n",
       "      <th>10106</th>\n",
       "      <td>Seattle City Light</td>\n",
       "      <td>Smith</td>\n",
       "      <td>Deborah</td>\n",
       "      <td>City Light General Mgr&amp;CEO</td>\n",
       "      <td>175.450</td>\n",
       "      <td>350900.0</td>\n",
       "      <td>False</td>\n",
       "      <td>False</td>\n",
       "      <td>False</td>\n",
       "    </tr>\n",
       "    <tr>\n",
       "      <th>4422</th>\n",
       "      <td>Seattle Public Utilities</td>\n",
       "      <td>Hara</td>\n",
       "      <td>Mami</td>\n",
       "      <td>SPU General Mgr&amp;CEO</td>\n",
       "      <td>148.460</td>\n",
       "      <td>296920.0</td>\n",
       "      <td>False</td>\n",
       "      <td>False</td>\n",
       "      <td>False</td>\n",
       "    </tr>\n",
       "    <tr>\n",
       "      <th>4596</th>\n",
       "      <td>Seattle City Light</td>\n",
       "      <td>Haynes</td>\n",
       "      <td>Michael</td>\n",
       "      <td>Electric Util Exec 3,Ofcr</td>\n",
       "      <td>140.928</td>\n",
       "      <td>281856.0</td>\n",
       "      <td>False</td>\n",
       "      <td>False</td>\n",
       "      <td>False</td>\n",
       "    </tr>\n",
       "    <tr>\n",
       "      <th>950</th>\n",
       "      <td>Police Department</td>\n",
       "      <td>Best</td>\n",
       "      <td>Carmen</td>\n",
       "      <td>Seattle Police Chief</td>\n",
       "      <td>140.870</td>\n",
       "      <td>281740.0</td>\n",
       "      <td>False</td>\n",
       "      <td>True</td>\n",
       "      <td>True</td>\n",
       "    </tr>\n",
       "    <tr>\n",
       "      <th>710</th>\n",
       "      <td>Information Technology</td>\n",
       "      <td>Bashir</td>\n",
       "      <td>Saad</td>\n",
       "      <td>Chief Technology Officer</td>\n",
       "      <td>140.212</td>\n",
       "      <td>280424.0</td>\n",
       "      <td>False</td>\n",
       "      <td>False</td>\n",
       "      <td>True</td>\n",
       "    </tr>\n",
       "  </tbody>\n",
       "</table>\n",
       "</div>"
      ],
      "text/plain": [
       "                     Department Last Name First Name  \\\n",
       "10106        Seattle City Light     Smith    Deborah   \n",
       "4422   Seattle Public Utilities      Hara       Mami   \n",
       "4596         Seattle City Light    Haynes    Michael   \n",
       "950           Police Department      Best     Carmen   \n",
       "710      Information Technology    Bashir       Saad   \n",
       "\n",
       "                        Job Title  Hourly Rate     Salary   Fire  Police  \\\n",
       "10106  City Light General Mgr&CEO       175.450  350900.0  False   False   \n",
       "4422          SPU General Mgr&CEO       148.460  296920.0  False   False   \n",
       "4596    Electric Util Exec 3,Ofcr       140.928  281856.0  False   False   \n",
       "950          Seattle Police Chief       140.870  281740.0  False    True   \n",
       "710      Chief Technology Officer       140.212  280424.0  False   False   \n",
       "\n",
       "       Chief  \n",
       "10106  False  \n",
       "4422   False  \n",
       "4596   False  \n",
       "950     True  \n",
       "710     True  "
      ]
     },
     "execution_count": 100,
     "metadata": {},
     "output_type": "execute_result"
    }
   ],
   "source": [
    "df.sort_values('Salary', ascending=False).head(5)"
   ]
  },
  {
   "cell_type": "code",
   "execution_count": 114,
   "metadata": {},
   "outputs": [
    {
     "data": {
      "text/plain": [
       "Police Department                 2016\n",
       "Seattle City Light                1731\n",
       "Parks & Recreation                1440\n",
       "Seattle Public Utilities          1409\n",
       "Fire Department                   1083\n",
       "Seattle Dept of Transportation    1017\n",
       "Information Technology             716\n",
       "Finance & Admin Services           585\n",
       "Seattle Center                     566\n",
       "Human Services Department          387\n",
       "Name: Department, dtype: int64"
      ]
     },
     "execution_count": 114,
     "metadata": {},
     "output_type": "execute_result"
    }
   ],
   "source": [
    "df['Department'].value_counts().head(10)"
   ]
  },
  {
   "cell_type": "code",
   "execution_count": 113,
   "metadata": {},
   "outputs": [
    {
     "data": {
      "text/plain": [
       "Pol Ofcr-Patrl-BWV        385\n",
       "Fireftr-90.46 Hrs         315\n",
       "Info Technol Prof B-BU    284\n",
       "Pol Ofcr-BWV              280\n",
       "Maint Laborer             197\n",
       "Rec Attendant *           184\n",
       "Lifeguard *               162\n",
       "Fireftr-Ap Drvr-90.46     160\n",
       "Stage Tech *              145\n",
       "StratAdvsr2,Exempt        139\n",
       "Name: Job Title, dtype: int64"
      ]
     },
     "execution_count": 113,
     "metadata": {},
     "output_type": "execute_result"
    }
   ],
   "source": [
    "df['Job Title'].value_counts().head(10)"
   ]
  },
  {
   "cell_type": "code",
   "execution_count": 13,
   "metadata": {},
   "outputs": [
    {
     "data": {
      "text/plain": [
       "(12143,)"
      ]
     },
     "execution_count": 13,
     "metadata": {},
     "output_type": "execute_result"
    }
   ],
   "source": [
    "df['Job Title'].shape"
   ]
  },
  {
   "cell_type": "code",
   "execution_count": 15,
   "metadata": {},
   "outputs": [],
   "source": [
    "uniquejobs=df['Job Title'].unique()"
   ]
  },
  {
   "cell_type": "code",
   "execution_count": 18,
   "metadata": {},
   "outputs": [
    {
     "data": {
      "text/plain": [
       "array(['Pol Lieut', 'Pol Ofcr-Detective', 'Rec Attendant *', ...,\n",
       "       'Dev Fin Spec I', 'Lock Tech,Sr', 'Elec-Con CC-Asg Crew Coord'],\n",
       "      dtype=object)"
      ]
     },
     "execution_count": 18,
     "metadata": {},
     "output_type": "execute_result"
    }
   ],
   "source": [
    "uniquejobs"
   ]
  },
  {
   "cell_type": "code",
   "execution_count": 48,
   "metadata": {},
   "outputs": [],
   "source": [
    "# police or fire department\n",
    "def ispolice(department):\n",
    "    if 'Police' in department:\n",
    "        return True\n",
    "    else:\n",
    "        return False\n",
    "\n"
   ]
  },
  {
   "cell_type": "code",
   "execution_count": 72,
   "metadata": {},
   "outputs": [],
   "source": [
    "def isfire(department):\n",
    "    if 'Fire' in department:\n",
    "        return True\n",
    "    else:\n",
    "        return False"
   ]
  },
  {
   "cell_type": "code",
   "execution_count": 101,
   "metadata": {},
   "outputs": [],
   "source": [
    "def isit(department):\n",
    "    if 'Information Technology' in department:\n",
    "        return True\n",
    "    else:\n",
    "        return False"
   ]
  },
  {
   "cell_type": "code",
   "execution_count": 61,
   "metadata": {},
   "outputs": [],
   "source": [
    "df['Police'] = df['Department'].apply(lambda x: ispolice(x))\n"
   ]
  },
  {
   "cell_type": "code",
   "execution_count": 104,
   "metadata": {},
   "outputs": [
    {
     "data": {
      "text/html": [
       "<div>\n",
       "<style scoped>\n",
       "    .dataframe tbody tr th:only-of-type {\n",
       "        vertical-align: middle;\n",
       "    }\n",
       "\n",
       "    .dataframe tbody tr th {\n",
       "        vertical-align: top;\n",
       "    }\n",
       "\n",
       "    .dataframe thead th {\n",
       "        text-align: right;\n",
       "    }\n",
       "</style>\n",
       "<table border=\"1\" class=\"dataframe\">\n",
       "  <thead>\n",
       "    <tr style=\"text-align: right;\">\n",
       "      <th></th>\n",
       "      <th>Department</th>\n",
       "      <th>Last Name</th>\n",
       "      <th>First Name</th>\n",
       "      <th>Job Title</th>\n",
       "      <th>Hourly Rate</th>\n",
       "      <th>Salary</th>\n",
       "      <th>Fire</th>\n",
       "      <th>Police</th>\n",
       "      <th>Chief</th>\n",
       "    </tr>\n",
       "  </thead>\n",
       "  <tbody>\n",
       "    <tr>\n",
       "      <th>0</th>\n",
       "      <td>Police Department</td>\n",
       "      <td>Aagard</td>\n",
       "      <td>Lori</td>\n",
       "      <td>Pol Lieut</td>\n",
       "      <td>80.07</td>\n",
       "      <td>160140.0</td>\n",
       "      <td>False</td>\n",
       "      <td>True</td>\n",
       "      <td>False</td>\n",
       "    </tr>\n",
       "    <tr>\n",
       "      <th>1</th>\n",
       "      <td>Police Department</td>\n",
       "      <td>Aakervik</td>\n",
       "      <td>Dag</td>\n",
       "      <td>Pol Ofcr-Detective</td>\n",
       "      <td>60.84</td>\n",
       "      <td>121680.0</td>\n",
       "      <td>False</td>\n",
       "      <td>True</td>\n",
       "      <td>False</td>\n",
       "    </tr>\n",
       "    <tr>\n",
       "      <th>10</th>\n",
       "      <td>Police Department</td>\n",
       "      <td>Abdi</td>\n",
       "      <td>Habtamu</td>\n",
       "      <td>StratAdvsr2,Exempt</td>\n",
       "      <td>54.28</td>\n",
       "      <td>108560.0</td>\n",
       "      <td>False</td>\n",
       "      <td>True</td>\n",
       "      <td>False</td>\n",
       "    </tr>\n",
       "  </tbody>\n",
       "</table>\n",
       "</div>"
      ],
      "text/plain": [
       "           Department Last Name First Name           Job Title  Hourly Rate   \\\n",
       "0   Police Department    Aagard       Lori           Pol Lieut         80.07   \n",
       "1   Police Department  Aakervik        Dag  Pol Ofcr-Detective         60.84   \n",
       "10  Police Department      Abdi    Habtamu  StratAdvsr2,Exempt         54.28   \n",
       "\n",
       "      Salary   Fire  Police  Chief  \n",
       "0   160140.0  False    True  False  \n",
       "1   121680.0  False    True  False  \n",
       "10  108560.0  False    True  False  "
      ]
     },
     "execution_count": 104,
     "metadata": {},
     "output_type": "execute_result"
    }
   ],
   "source": [
    "df[df['Police']].head(3)"
   ]
  },
  {
   "cell_type": "code",
   "execution_count": 74,
   "metadata": {},
   "outputs": [],
   "source": [
    "df['Fire'] = df['Department'].apply(lambda x: isfire(x))"
   ]
  },
  {
   "cell_type": "code",
   "execution_count": 103,
   "metadata": {},
   "outputs": [
    {
     "data": {
      "text/html": [
       "<div>\n",
       "<style scoped>\n",
       "    .dataframe tbody tr th:only-of-type {\n",
       "        vertical-align: middle;\n",
       "    }\n",
       "\n",
       "    .dataframe tbody tr th {\n",
       "        vertical-align: top;\n",
       "    }\n",
       "\n",
       "    .dataframe thead th {\n",
       "        text-align: right;\n",
       "    }\n",
       "</style>\n",
       "<table border=\"1\" class=\"dataframe\">\n",
       "  <thead>\n",
       "    <tr style=\"text-align: right;\">\n",
       "      <th></th>\n",
       "      <th>Department</th>\n",
       "      <th>Last Name</th>\n",
       "      <th>First Name</th>\n",
       "      <th>Job Title</th>\n",
       "      <th>Hourly Rate</th>\n",
       "      <th>Salary</th>\n",
       "      <th>Fire</th>\n",
       "      <th>Police</th>\n",
       "      <th>Chief</th>\n",
       "    </tr>\n",
       "  </thead>\n",
       "  <tbody>\n",
       "    <tr>\n",
       "      <th>48</th>\n",
       "      <td>Fire Department</td>\n",
       "      <td>Adamich</td>\n",
       "      <td>Michael</td>\n",
       "      <td>Fireftr-SLT-90.46 Hrs</td>\n",
       "      <td>47.56</td>\n",
       "      <td>95120.0</td>\n",
       "      <td>True</td>\n",
       "      <td>False</td>\n",
       "      <td>False</td>\n",
       "    </tr>\n",
       "    <tr>\n",
       "      <th>49</th>\n",
       "      <td>Fire Department</td>\n",
       "      <td>Adamich</td>\n",
       "      <td>Chase</td>\n",
       "      <td>Fireftr-90.46 Hrs</td>\n",
       "      <td>42.71</td>\n",
       "      <td>85420.0</td>\n",
       "      <td>True</td>\n",
       "      <td>False</td>\n",
       "      <td>False</td>\n",
       "    </tr>\n",
       "    <tr>\n",
       "      <th>61</th>\n",
       "      <td>Fire Department</td>\n",
       "      <td>Adams</td>\n",
       "      <td>Paul</td>\n",
       "      <td>Fire Lieut, Sr-90.46 Hrs</td>\n",
       "      <td>54.36</td>\n",
       "      <td>108720.0</td>\n",
       "      <td>True</td>\n",
       "      <td>False</td>\n",
       "      <td>False</td>\n",
       "    </tr>\n",
       "  </tbody>\n",
       "</table>\n",
       "</div>"
      ],
      "text/plain": [
       "         Department Last Name First Name                 Job Title  \\\n",
       "48  Fire Department   Adamich    Michael     Fireftr-SLT-90.46 Hrs   \n",
       "49  Fire Department   Adamich      Chase         Fireftr-90.46 Hrs   \n",
       "61  Fire Department     Adams       Paul  Fire Lieut, Sr-90.46 Hrs   \n",
       "\n",
       "    Hourly Rate     Salary  Fire  Police  Chief  \n",
       "48         47.56   95120.0  True   False  False  \n",
       "49         42.71   85420.0  True   False  False  \n",
       "61         54.36  108720.0  True   False  False  "
      ]
     },
     "execution_count": 103,
     "metadata": {},
     "output_type": "execute_result"
    }
   ],
   "source": [
    "df[df['Fire']].head(3)"
   ]
  },
  {
   "cell_type": "code",
   "execution_count": 105,
   "metadata": {},
   "outputs": [],
   "source": [
    "df['IT'] = df['Department'].apply(lambda x: isit(x))"
   ]
  },
  {
   "cell_type": "code",
   "execution_count": 76,
   "metadata": {},
   "outputs": [
    {
     "data": {
      "text/plain": [
       "False    11060\n",
       "True      1083\n",
       "Name: Fire, dtype: int64"
      ]
     },
     "execution_count": 76,
     "metadata": {},
     "output_type": "execute_result"
    }
   ],
   "source": [
    "df['Fire'].value_counts()"
   ]
  },
  {
   "cell_type": "code",
   "execution_count": 67,
   "metadata": {},
   "outputs": [
    {
     "data": {
      "text/plain": [
       "False    10118\n",
       "True      2025\n",
       "Name: Police, dtype: int64"
      ]
     },
     "execution_count": 67,
     "metadata": {},
     "output_type": "execute_result"
    }
   ],
   "source": [
    "df['Police'].value_counts()"
   ]
  },
  {
   "cell_type": "code",
   "execution_count": 106,
   "metadata": {},
   "outputs": [
    {
     "data": {
      "text/plain": [
       "False    11427\n",
       "True       716\n",
       "Name: IT, dtype: int64"
      ]
     },
     "execution_count": 106,
     "metadata": {},
     "output_type": "execute_result"
    }
   ],
   "source": [
    "df['IT'].value_counts()"
   ]
  },
  {
   "cell_type": "code",
   "execution_count": 107,
   "metadata": {},
   "outputs": [
    {
     "data": {
      "text/plain": [
       "<matplotlib.axes._subplots.AxesSubplot at 0x128468b50>"
      ]
     },
     "execution_count": 107,
     "metadata": {},
     "output_type": "execute_result"
    },
    {
     "data": {
      "image/png": "[encoded data removed]",
      "text/plain": [
       "<Figure size 432x288 with 2 Axes>"
      ]
     },
     "metadata": {
      "needs_background": "light"
     },
     "output_type": "display_data"
    }
   ],
   "source": [
    "# Heatmap on Base Pay < 100000 - does it correlate to other types of pay?\n",
    "sns.heatmap(df[df['Salary'] > 100000].corr(),cmap='coolwarm')\n"
   ]
  },
  {
   "cell_type": "code",
   "execution_count": 109,
   "metadata": {},
   "outputs": [
    {
     "data": {
      "text/plain": [
       "<matplotlib.axes._subplots.AxesSubplot at 0x126e86b50>"
      ]
     },
     "execution_count": 109,
     "metadata": {},
     "output_type": "execute_result"
    },
    {
     "data": {
      "image/png": "[encoded data removed]",
      "text/plain": [
       "<Figure size 432x288 with 2 Axes>"
      ]
     },
     "metadata": {
      "needs_background": "light"
     },
     "output_type": "display_data"
    }
   ],
   "source": [
    "# Heatmap on Base Pay < 100000 - does it correlate to other types of pay?\n",
    "sns.heatmap(df[df['Salary'] < 100000].corr(),cmap='coolwarm')\n",
    "\n"
   ]
  },
  {
   "cell_type": "code",
   "execution_count": 86,
   "metadata": {},
   "outputs": [
    {
     "data": {
      "text/html": [
       "<div>\n",
       "<style scoped>\n",
       "    .dataframe tbody tr th:only-of-type {\n",
       "        vertical-align: middle;\n",
       "    }\n",
       "\n",
       "    .dataframe tbody tr th {\n",
       "        vertical-align: top;\n",
       "    }\n",
       "\n",
       "    .dataframe thead th {\n",
       "        text-align: right;\n",
       "    }\n",
       "</style>\n",
       "<table border=\"1\" class=\"dataframe\">\n",
       "  <thead>\n",
       "    <tr style=\"text-align: right;\">\n",
       "      <th></th>\n",
       "      <th>Police</th>\n",
       "      <th>Salary</th>\n",
       "    </tr>\n",
       "  </thead>\n",
       "  <tbody>\n",
       "    <tr>\n",
       "      <th>Police</th>\n",
       "      <td>1.000000</td>\n",
       "      <td>0.193176</td>\n",
       "    </tr>\n",
       "    <tr>\n",
       "      <th>Salary</th>\n",
       "      <td>0.193176</td>\n",
       "      <td>1.000000</td>\n",
       "    </tr>\n",
       "  </tbody>\n",
       "</table>\n",
       "</div>"
      ],
      "text/plain": [
       "          Police    Salary\n",
       "Police  1.000000  0.193176\n",
       "Salary  0.193176  1.000000"
      ]
     },
     "execution_count": 86,
     "metadata": {},
     "output_type": "execute_result"
    }
   ],
   "source": [
    "df[['Police','Salary']].corr()"
   ]
  },
  {
   "cell_type": "code",
   "execution_count": 87,
   "metadata": {},
   "outputs": [
    {
     "data": {
      "text/html": [
       "<div>\n",
       "<style scoped>\n",
       "    .dataframe tbody tr th:only-of-type {\n",
       "        vertical-align: middle;\n",
       "    }\n",
       "\n",
       "    .dataframe tbody tr th {\n",
       "        vertical-align: top;\n",
       "    }\n",
       "\n",
       "    .dataframe thead th {\n",
       "        text-align: right;\n",
       "    }\n",
       "</style>\n",
       "<table border=\"1\" class=\"dataframe\">\n",
       "  <thead>\n",
       "    <tr style=\"text-align: right;\">\n",
       "      <th></th>\n",
       "      <th>Fire</th>\n",
       "      <th>Salary</th>\n",
       "    </tr>\n",
       "  </thead>\n",
       "  <tbody>\n",
       "    <tr>\n",
       "      <th>Fire</th>\n",
       "      <td>1.000000</td>\n",
       "      <td>0.073433</td>\n",
       "    </tr>\n",
       "    <tr>\n",
       "      <th>Salary</th>\n",
       "      <td>0.073433</td>\n",
       "      <td>1.000000</td>\n",
       "    </tr>\n",
       "  </tbody>\n",
       "</table>\n",
       "</div>"
      ],
      "text/plain": [
       "            Fire    Salary\n",
       "Fire    1.000000  0.073433\n",
       "Salary  0.073433  1.000000"
      ]
     },
     "execution_count": 87,
     "metadata": {},
     "output_type": "execute_result"
    }
   ],
   "source": [
    "df[['Fire','Salary']].corr()"
   ]
  },
  {
   "cell_type": "code",
   "execution_count": 110,
   "metadata": {},
   "outputs": [
    {
     "data": {
      "text/html": [
       "<div>\n",
       "<style scoped>\n",
       "    .dataframe tbody tr th:only-of-type {\n",
       "        vertical-align: middle;\n",
       "    }\n",
       "\n",
       "    .dataframe tbody tr th {\n",
       "        vertical-align: top;\n",
       "    }\n",
       "\n",
       "    .dataframe thead th {\n",
       "        text-align: right;\n",
       "    }\n",
       "</style>\n",
       "<table border=\"1\" class=\"dataframe\">\n",
       "  <thead>\n",
       "    <tr style=\"text-align: right;\">\n",
       "      <th></th>\n",
       "      <th>IT</th>\n",
       "      <th>Salary</th>\n",
       "    </tr>\n",
       "  </thead>\n",
       "  <tbody>\n",
       "    <tr>\n",
       "      <th>IT</th>\n",
       "      <td>1.000000</td>\n",
       "      <td>0.190993</td>\n",
       "    </tr>\n",
       "    <tr>\n",
       "      <th>Salary</th>\n",
       "      <td>0.190993</td>\n",
       "      <td>1.000000</td>\n",
       "    </tr>\n",
       "  </tbody>\n",
       "</table>\n",
       "</div>"
      ],
      "text/plain": [
       "              IT    Salary\n",
       "IT      1.000000  0.190993\n",
       "Salary  0.190993  1.000000"
      ]
     },
     "execution_count": 110,
     "metadata": {},
     "output_type": "execute_result"
    }
   ],
   "source": [
    "df[['IT','Salary']].corr()"
   ]
  },
  {
   "cell_type": "code",
   "execution_count": 111,
   "metadata": {},
   "outputs": [
    {
     "data": {
      "text/plain": [
       "<matplotlib.axes._subplots.AxesSubplot at 0x128759c10>"
      ]
     },
     "execution_count": 111,
     "metadata": {},
     "output_type": "execute_result"
    },
    {
     "data": {
      "image/png": "[encoded data removed]",
      "text/plain": [
       "<Figure size 432x288 with 2 Axes>"
      ]
     },
     "metadata": {
      "needs_background": "light"
     },
     "output_type": "display_data"
    }
   ],
   "source": [
    "sns.heatmap(df[df['Police']].corr(),cmap='coolwarm')\n"
   ]
  },
  {
   "cell_type": "code",
   "execution_count": 112,
   "metadata": {},
   "outputs": [],
   "source": [
    "def ischief(title):\n",
    "    if 'chief' in title.lower():\n",
    "        return True\n",
    "    else:\n",
    "        return False"
   ]
  },
  {
   "cell_type": "code",
   "execution_count": 116,
   "metadata": {},
   "outputs": [],
   "source": [
    "def isceo(title):\n",
    "    if 'CEO' in title.lower():\n",
    "        return True\n",
    "    else:\n",
    "        return False"
   ]
  },
  {
   "cell_type": "code",
   "execution_count": 92,
   "metadata": {},
   "outputs": [],
   "source": [
    "df['Chief'] =  df['Job Title'].apply(lambda x: ischief(x))"
   ]
  },
  {
   "cell_type": "code",
   "execution_count": 121,
   "metadata": {},
   "outputs": [],
   "source": [
    "df['CEO'] =  df['Job Title'].apply(lambda x: isceo(x))"
   ]
  },
  {
   "cell_type": "code",
   "execution_count": 93,
   "metadata": {},
   "outputs": [
    {
     "data": {
      "text/plain": [
       "False    12089\n",
       "True        54\n",
       "Name: Chief, dtype: int64"
      ]
     },
     "execution_count": 93,
     "metadata": {},
     "output_type": "execute_result"
    }
   ],
   "source": [
    "df['Chief'].value_counts()"
   ]
  },
  {
   "cell_type": "code",
   "execution_count": 94,
   "metadata": {},
   "outputs": [
    {
     "data": {
      "text/plain": [
       "<matplotlib.axes._subplots.AxesSubplot at 0x127ba3290>"
      ]
     },
     "execution_count": 94,
     "metadata": {},
     "output_type": "execute_result"
    },
    {
     "data": {
      "image/png": "[encoded data removed]",
      "text/plain": [
       "<Figure size 432x288 with 1 Axes>"
      ]
     },
     "metadata": {
      "needs_background": "light"
     },
     "output_type": "display_data"
    }
   ],
   "source": [
    "sns.distplot(df[df['Salary'] > 1000]['Salary'])"
   ]
  },
  {
   "cell_type": "code",
   "execution_count": 96,
   "metadata": {},
   "outputs": [
    {
     "data": {
      "text/plain": [
       "<matplotlib.axes._subplots.AxesSubplot at 0x127fe0550>"
      ]
     },
     "execution_count": 96,
     "metadata": {},
     "output_type": "execute_result"
    },
    {
     "data": {
      "image/png": "[encoded data removed]",
      "text/plain": [
       "<Figure size 432x288 with 1 Axes>"
      ]
     },
     "metadata": {
      "needs_background": "light"
     },
     "output_type": "display_data"
    }
   ],
   "source": [
    "sns.distplot(df[df['Police']]['Salary'].dropna(), bins=50, rug=True, kde=True)"
   ]
  },
  {
   "cell_type": "code",
   "execution_count": 97,
   "metadata": {},
   "outputs": [
    {
     "data": {
      "text/plain": [
       "<matplotlib.axes._subplots.AxesSubplot at 0x128253850>"
      ]
     },
     "execution_count": 97,
     "metadata": {},
     "output_type": "execute_result"
    },
    {
     "data": {
      "image/png": "[encoded data removed]",
      "text/plain": [
       "<Figure size 432x288 with 1 Axes>"
      ]
     },
     "metadata": {
      "needs_background": "light"
     },
     "output_type": "display_data"
    }
   ],
   "source": [
    "sns.distplot(df[df['Fire']]['Salary'].dropna(), bins=50, rug=True, kde=True)"
   ]
  },
  {
   "cell_type": "code",
   "execution_count": 95,
   "metadata": {},
   "outputs": [
    {
     "data": {
      "text/plain": [
       "<matplotlib.axes._subplots.AxesSubplot at 0x1279f9d50>"
      ]
     },
     "execution_count": 95,
     "metadata": {},
     "output_type": "execute_result"
    },
    {
     "data": {
      "image/png": "[encoded data removed]",
      "text/plain": [
       "<Figure size 432x288 with 1 Axes>"
      ]
     },
     "metadata": {
      "needs_background": "light"
     },
     "output_type": "display_data"
    }
   ],
   "source": [
    "sns.distplot(df[df['Chief']]['Salary'].dropna(), bins=50, rug=True, kde=True)"
   ]
  },
  {
   "cell_type": "code",
   "execution_count": null,
   "metadata": {},
   "outputs": [],
   "source": []
  },
  {
   "cell_type": "code",
   "execution_count": 98,
   "metadata": {},
   "outputs": [
    {
     "data": {
      "text/html": [
       "<style  type=\"text/css\" >\n",
       "    #T_e3f7293e_b679_11ea_87a2_186590d99475row0_col0 {\n",
       "            background-color:  #000000;\n",
       "            color:  #f1f1f1;\n",
       "        }    #T_e3f7293e_b679_11ea_87a2_186590d99475row0_col1 {\n",
       "            background-color:  #000000;\n",
       "            color:  #f1f1f1;\n",
       "        }    #T_e3f7293e_b679_11ea_87a2_186590d99475row0_col2 {\n",
       "            background-color:  #000000;\n",
       "            color:  #f1f1f1;\n",
       "        }    #T_e3f7293e_b679_11ea_87a2_186590d99475row0_col3 {\n",
       "            background-color:  #000000;\n",
       "            color:  #f1f1f1;\n",
       "        }    #T_e3f7293e_b679_11ea_87a2_186590d99475row0_col4 {\n",
       "            background-color:  #000000;\n",
       "            color:  #f1f1f1;\n",
       "        }    #T_e3f7293e_b679_11ea_87a2_186590d99475row1_col0 {\n",
       "            background-color:  #000000;\n",
       "            color:  #f1f1f1;\n",
       "        }    #T_e3f7293e_b679_11ea_87a2_186590d99475row1_col1 {\n",
       "            background-color:  #000000;\n",
       "            color:  #f1f1f1;\n",
       "        }    #T_e3f7293e_b679_11ea_87a2_186590d99475row1_col2 {\n",
       "            background-color:  #000000;\n",
       "            color:  #f1f1f1;\n",
       "        }    #T_e3f7293e_b679_11ea_87a2_186590d99475row1_col3 {\n",
       "            background-color:  #000000;\n",
       "            color:  #f1f1f1;\n",
       "        }    #T_e3f7293e_b679_11ea_87a2_186590d99475row1_col4 {\n",
       "            background-color:  #000000;\n",
       "            color:  #f1f1f1;\n",
       "        }    #T_e3f7293e_b679_11ea_87a2_186590d99475row2_col0 {\n",
       "            background-color:  #000000;\n",
       "            color:  #f1f1f1;\n",
       "        }    #T_e3f7293e_b679_11ea_87a2_186590d99475row2_col1 {\n",
       "            background-color:  #000000;\n",
       "            color:  #f1f1f1;\n",
       "        }    #T_e3f7293e_b679_11ea_87a2_186590d99475row2_col2 {\n",
       "            background-color:  #000000;\n",
       "            color:  #f1f1f1;\n",
       "        }    #T_e3f7293e_b679_11ea_87a2_186590d99475row2_col3 {\n",
       "            background-color:  #000000;\n",
       "            color:  #f1f1f1;\n",
       "        }    #T_e3f7293e_b679_11ea_87a2_186590d99475row2_col4 {\n",
       "            background-color:  #000000;\n",
       "            color:  #f1f1f1;\n",
       "        }    #T_e3f7293e_b679_11ea_87a2_186590d99475row3_col0 {\n",
       "            background-color:  #000000;\n",
       "            color:  #f1f1f1;\n",
       "        }    #T_e3f7293e_b679_11ea_87a2_186590d99475row3_col1 {\n",
       "            background-color:  #000000;\n",
       "            color:  #f1f1f1;\n",
       "        }    #T_e3f7293e_b679_11ea_87a2_186590d99475row3_col2 {\n",
       "            background-color:  #000000;\n",
       "            color:  #f1f1f1;\n",
       "        }    #T_e3f7293e_b679_11ea_87a2_186590d99475row3_col3 {\n",
       "            background-color:  #000000;\n",
       "            color:  #f1f1f1;\n",
       "        }    #T_e3f7293e_b679_11ea_87a2_186590d99475row3_col4 {\n",
       "            background-color:  #000000;\n",
       "            color:  #f1f1f1;\n",
       "        }    #T_e3f7293e_b679_11ea_87a2_186590d99475row4_col0 {\n",
       "            background-color:  #000000;\n",
       "            color:  #f1f1f1;\n",
       "        }    #T_e3f7293e_b679_11ea_87a2_186590d99475row4_col1 {\n",
       "            background-color:  #000000;\n",
       "            color:  #f1f1f1;\n",
       "        }    #T_e3f7293e_b679_11ea_87a2_186590d99475row4_col2 {\n",
       "            background-color:  #000000;\n",
       "            color:  #f1f1f1;\n",
       "        }    #T_e3f7293e_b679_11ea_87a2_186590d99475row4_col3 {\n",
       "            background-color:  #000000;\n",
       "            color:  #f1f1f1;\n",
       "        }    #T_e3f7293e_b679_11ea_87a2_186590d99475row4_col4 {\n",
       "            background-color:  #000000;\n",
       "            color:  #f1f1f1;\n",
       "        }</style><table id=\"T_e3f7293e_b679_11ea_87a2_186590d99475\" ><thead>    <tr>        <th class=\"blank level0\" ></th>        <th class=\"col_heading level0 col0\" >Hourly Rate </th>        <th class=\"col_heading level0 col1\" >Salary</th>        <th class=\"col_heading level0 col2\" >Fire</th>        <th class=\"col_heading level0 col3\" >Police</th>        <th class=\"col_heading level0 col4\" >Chief</th>    </tr></thead><tbody>\n",
       "                <tr>\n",
       "                        <th id=\"T_e3f7293e_b679_11ea_87a2_186590d99475level0_row0\" class=\"row_heading level0 row0\" >Hourly Rate </th>\n",
       "                        <td id=\"T_e3f7293e_b679_11ea_87a2_186590d99475row0_col0\" class=\"data row0 col0\" >1</td>\n",
       "                        <td id=\"T_e3f7293e_b679_11ea_87a2_186590d99475row0_col1\" class=\"data row0 col1\" >1</td>\n",
       "                        <td id=\"T_e3f7293e_b679_11ea_87a2_186590d99475row0_col2\" class=\"data row0 col2\" >0.344866</td>\n",
       "                        <td id=\"T_e3f7293e_b679_11ea_87a2_186590d99475row0_col3\" class=\"data row0 col3\" >-0.0125544</td>\n",
       "                        <td id=\"T_e3f7293e_b679_11ea_87a2_186590d99475row0_col4\" class=\"data row0 col4\" >nan</td>\n",
       "            </tr>\n",
       "            <tr>\n",
       "                        <th id=\"T_e3f7293e_b679_11ea_87a2_186590d99475level0_row1\" class=\"row_heading level0 row1\" >Salary</th>\n",
       "                        <td id=\"T_e3f7293e_b679_11ea_87a2_186590d99475row1_col0\" class=\"data row1 col0\" >1</td>\n",
       "                        <td id=\"T_e3f7293e_b679_11ea_87a2_186590d99475row1_col1\" class=\"data row1 col1\" >1</td>\n",
       "                        <td id=\"T_e3f7293e_b679_11ea_87a2_186590d99475row1_col2\" class=\"data row1 col2\" >0.344866</td>\n",
       "                        <td id=\"T_e3f7293e_b679_11ea_87a2_186590d99475row1_col3\" class=\"data row1 col3\" >-0.0125544</td>\n",
       "                        <td id=\"T_e3f7293e_b679_11ea_87a2_186590d99475row1_col4\" class=\"data row1 col4\" >nan</td>\n",
       "            </tr>\n",
       "            <tr>\n",
       "                        <th id=\"T_e3f7293e_b679_11ea_87a2_186590d99475level0_row2\" class=\"row_heading level0 row2\" >Fire</th>\n",
       "                        <td id=\"T_e3f7293e_b679_11ea_87a2_186590d99475row2_col0\" class=\"data row2 col0\" >0.344866</td>\n",
       "                        <td id=\"T_e3f7293e_b679_11ea_87a2_186590d99475row2_col1\" class=\"data row2 col1\" >0.344866</td>\n",
       "                        <td id=\"T_e3f7293e_b679_11ea_87a2_186590d99475row2_col2\" class=\"data row2 col2\" >1</td>\n",
       "                        <td id=\"T_e3f7293e_b679_11ea_87a2_186590d99475row2_col3\" class=\"data row2 col3\" >-0.368782</td>\n",
       "                        <td id=\"T_e3f7293e_b679_11ea_87a2_186590d99475row2_col4\" class=\"data row2 col4\" >nan</td>\n",
       "            </tr>\n",
       "            <tr>\n",
       "                        <th id=\"T_e3f7293e_b679_11ea_87a2_186590d99475level0_row3\" class=\"row_heading level0 row3\" >Police</th>\n",
       "                        <td id=\"T_e3f7293e_b679_11ea_87a2_186590d99475row3_col0\" class=\"data row3 col0\" >-0.0125544</td>\n",
       "                        <td id=\"T_e3f7293e_b679_11ea_87a2_186590d99475row3_col1\" class=\"data row3 col1\" >-0.0125544</td>\n",
       "                        <td id=\"T_e3f7293e_b679_11ea_87a2_186590d99475row3_col2\" class=\"data row3 col2\" >-0.368782</td>\n",
       "                        <td id=\"T_e3f7293e_b679_11ea_87a2_186590d99475row3_col3\" class=\"data row3 col3\" >1</td>\n",
       "                        <td id=\"T_e3f7293e_b679_11ea_87a2_186590d99475row3_col4\" class=\"data row3 col4\" >nan</td>\n",
       "            </tr>\n",
       "            <tr>\n",
       "                        <th id=\"T_e3f7293e_b679_11ea_87a2_186590d99475level0_row4\" class=\"row_heading level0 row4\" >Chief</th>\n",
       "                        <td id=\"T_e3f7293e_b679_11ea_87a2_186590d99475row4_col0\" class=\"data row4 col0\" >nan</td>\n",
       "                        <td id=\"T_e3f7293e_b679_11ea_87a2_186590d99475row4_col1\" class=\"data row4 col1\" >nan</td>\n",
       "                        <td id=\"T_e3f7293e_b679_11ea_87a2_186590d99475row4_col2\" class=\"data row4 col2\" >nan</td>\n",
       "                        <td id=\"T_e3f7293e_b679_11ea_87a2_186590d99475row4_col3\" class=\"data row4 col3\" >nan</td>\n",
       "                        <td id=\"T_e3f7293e_b679_11ea_87a2_186590d99475row4_col4\" class=\"data row4 col4\" >nan</td>\n",
       "            </tr>\n",
       "    </tbody></table>"
      ],
      "text/plain": [
       "<pandas.io.formats.style.Styler at 0x127fe07d0>"
      ]
     },
     "execution_count": 98,
     "metadata": {},
     "output_type": "execute_result"
    }
   ],
   "source": [
    "df[df['Chief']].corr().style.background_gradient(cmap='coolwarm')"
   ]
  },
  {
   "cell_type": "code",
   "execution_count": null,
   "metadata": {},
   "outputs": [],
   "source": []
  }
 ],
 "metadata": {
  "kernelspec": {
   "display_name": "Python 3",
   "language": "python",
   "name": "python3"
  },
  "language_info": {
   "codemirror_mode": {
    "name": "ipython",
    "version": 3
   },
   "file_extension": ".py",
   "mimetype": "text/x-python",
   "name": "python",
   "nbconvert_exporter": "python",
   "pygments_lexer": "ipython3",
   "version": "3.7.7"
  }
 },
 "nbformat": 4,
 "nbformat_minor": 4
}
