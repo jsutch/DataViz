{
 "cells": [
  {
   "cell_type": "markdown",
   "metadata": {},
   "source": [
    "## This is a compilation of examples of using LaTeX in Jupyter using MathJax, created using a number of examples\n",
    "\n",
    " I created this researching how to get Statistics notes into Jupyter. It's mainly a dump of various symbol examples and not meant as a cohesive reference\n",
    "\n",
    "I found these sites helpful, among many others:\n",
    "\n",
    "https://memory.psych.mun.ca/tech/js/mathjax.shtml"
   ]
  },
  {
   "cell_type": "markdown",
   "metadata": {},
   "source": [
    "### The Lorenz Equations\n",
    "\\begin{equation*}\n",
    "\\mathbf{V}_1 \\times \\mathbf{V}_2 =  \\begin{vmatrix}\n",
    "\\mathbf{i} & \\mathbf{j} & \\mathbf{k} \\\\\n",
    "\\frac{\\partial X}{\\partial u} &  \\frac{\\partial Y}{\\partial u} & 0 \\\\\n",
    "\\frac{\\partial X}{\\partial v} &  \\frac{\\partial Y}{\\partial v} & 0\n",
    "\\end{vmatrix}\n",
    "\\end{equation*}"
   ]
  },
  {
   "cell_type": "markdown",
   "metadata": {},
   "source": [
    "### The Cauchy-Schwarz Inequality\n",
    "\\begin{equation*}\n",
    "\\left( \\sum_{k=1}^n a_k b_k \\right)^2 \\leq \\left( \\sum_{k=1}^n a_k^2 \\right) \\left( \\sum_{k=1}^n b_k^2 \\right)\n",
    "\\end{equation*}"
   ]
  },
  {
   "cell_type": "markdown",
   "metadata": {},
   "source": [
    "### A Cross Product Formula\n",
    "\\begin{equation*}\n",
    "\\mathbf{V}_1 \\times \\mathbf{V}_2 =  \\begin{vmatrix}\n",
    "\\mathbf{i} & \\mathbf{j} & \\mathbf{k} \\\\\n",
    "\\frac{\\partial X}{\\partial u} &  \\frac{\\partial Y}{\\partial u} & 0 \\\\\n",
    "\\frac{\\partial X}{\\partial v} &  \\frac{\\partial Y}{\\partial v} & 0\n",
    "\\end{vmatrix}\n",
    "\\end{equation*}"
   ]
  },
  {
   "cell_type": "markdown",
   "metadata": {},
   "source": [
    "\\begin{equation*}\n",
    "P(E)   = {n \\choose k} p^k (1-p)^{ n-k}\n",
    "\\end{equation*}"
   ]
  },
  {
   "cell_type": "markdown",
   "metadata": {},
   "source": [
    "### The probability of getting (k) heads when flipping (n) coins is\n",
    "\n",
    "\\begin{equation*}\n",
    "P(E)   = {n \\choose k} p^k (1-p)^{ n-k}\n",
    "\\end{equation*}"
   ]
  },
  {
   "cell_type": "markdown",
   "metadata": {},
   "source": [
    "### An Identity of Ramanujan\n",
    "\\begin{equation*}\n",
    "\\frac{1}{\\Bigl(\\sqrt{\\phi \\sqrt{5}}-\\phi\\Bigr) e^{\\frac25 \\pi}} =\n",
    "1+\\frac{e^{-2\\pi}} {1+\\frac{e^{-4\\pi}} {1+\\frac{e^{-6\\pi}}\n",
    "{1+\\frac{e^{-8\\pi}} {1+\\ldots} } } }\n",
    "\\end{equation*}"
   ]
  },
  {
   "cell_type": "markdown",
   "metadata": {},
   "source": [
    "### A Rogers-Ramanujan Identity\n",
    "\\begin{equation*}\n",
    "1 +  \\frac{q^2}{(1-q)}+\\frac{q^6}{(1-q)(1-q^2)}+\\cdots =\n",
    "\\prod_{j=0}^{\\infty}\\frac{1}{(1-q^{5j+2})(1-q^{5j+3})},\n",
    "\\quad\\quad \\text{for $|q|<1$}.\n",
    "\\end{equation*}"
   ]
  },
  {
   "cell_type": "markdown",
   "metadata": {},
   "source": [
    "### Maxwell's Equations\n",
    "\\begin{align}\n",
    "\\nabla \\times \\vec{\\mathbf{B}} -\\, \\frac1c\\, \\frac{\\partial\\vec{\\mathbf{E}}}{\\partial t} & = \\frac{4\\pi}{c}\\vec{\\mathbf{j}} \\\\   \\nabla \\cdot \\vec{\\mathbf{E}} & = 4 \\pi \\rho \\\\\n",
    "\\nabla \\times \\vec{\\mathbf{E}}\\, +\\, \\frac1c\\, \\frac{\\partial\\vec{\\mathbf{B}}}{\\partial t} & = \\vec{\\mathbf{0}} \\\\\n",
    "\\nabla \\cdot \\vec{\\mathbf{B}} & = 0\n",
    "\\end{align}"
   ]
  },
  {
   "cell_type": "markdown",
   "metadata": {},
   "source": [
    "#### Formatting inline example\n",
    "This expression $\\sqrt{3x-1}+(1+x)^2$ is an example of a TeX inline equation in a [Markdown-formatted](https://daringfireball.net/projects/markdown/) sentence."
   ]
  },
  {
   "cell_type": "markdown",
   "metadata": {},
   "source": [
    "*$$ are needed explicitly to begin and end MathJax typesetting, but are supported for legacy Jupyter notebooks*\n",
    "\n",
    "e.g.\n",
    "```$$\n",
    "\\begin{array}{c}\n",
    "y_1 \\\\\\\n",
    "y_2 \\mathtt{t}_i \\\\\\\n",
    "z_{3,4}\n",
    "\\end{array}\n",
    "$$```\n",
    "\n",
    "$$\n",
    "\\begin{array}{c}\n",
    "y_1 \\\\\\\n",
    "y_2 \\mathtt{t}_i \\\\\\\n",
    "z_{3,4}\n",
    "\\end{array}\n",
    "$$\n",
    "\n"
   ]
  },
  {
   "cell_type": "markdown",
   "metadata": {},
   "source": [
    "Notes on MathJax\n",
    "\n",
    "https://memory.psych.mun.ca/tech/js/mathjax.shtml"
   ]
  },
  {
   "cell_type": "markdown",
   "metadata": {},
   "source": [
    "#### Testing raw symbol addition\n",
    "\n",
    "\\begin{array}\n",
    "\\sigma, \\alpha, \\beta\n",
    "\\end{array}"
   ]
  },
  {
   "cell_type": "markdown",
   "metadata": {},
   "source": [
    "#### Greek Alphabet, lower and upper\n",
    "\n",
    "- **alpha** - $\\alpha, A $\n",
    "- **beta** - $\\beta, B $\n",
    "- **gamma** - $\\gamma, \\Gamma $\n",
    "- **delta** - $\\delta, \\Delta $\n",
    "- **epsilon** - $\\epsilon, E $\n",
    "- **epsilon** - $\\varepsilon, E $\n",
    "- **zeta** - $\\zeta, Z $\n",
    "- **eta** - $\\eta, E $\n",
    "- **theta** - $\\theta, T $\n",
    "- **iota** - $\\iota, I $\n",
    "- **kappa** - $\\kappa, K $\n",
    "- **lambda** - $\\lambda, \\Lambda $\n",
    "- **mu** - $\\mu, M $\n",
    "- **nu** - $\\nu, N $\n",
    "- **xi** - $\\xi, \\Xi $\n",
    "- **omicron** - $\\omicron, O $\n",
    "- **pi** - $\\pi, \\Pi $\n",
    "- **rho** - $\\rho, R $\n",
    "- **sigma** - $\\sigma, \\Sigma $\n",
    "- **sigma** - $\\varsigma, \\varSigma $\n",
    "- **tau** - $\\tau, T $\n",
    "- **upsilon** - $\\upsilon, \\Upsilon $\n",
    "- **phi** - $\\phi, \\Phi $\n",
    "- **chi** - $\\chi, C $\n",
    "- **psi** - $\\psi, \\Psi $\n",
    "- **omega** - $\\omega, \\Omega $"
   ]
  },
  {
   "cell_type": "markdown",
   "metadata": {},
   "source": [
    "\n",
    "Formatting Text with MathJax\n",
    "\n",
    "Blackboard bold:\n",
    "\n",
    "\n",
    "$\\mathbf {abcdefghijklmnopqrstuvwxyzABCDEFGHIJKLMNOPQRSTUVWXYZ} $\n",
    "\n",
    "Boldface:\n",
    "\n",
    "$\\mathbb {abcdefghijklmnopqrstuvwxyzABCDEFGHIJKLMNOPQRSTUVWXYZ} $\n",
    "\n",
    "Typewriter:\n",
    "\n",
    "$\\mathtt {abcdefghijklmnopqrstuvwxyzABCDEFGHIJKLMNOPQRSTUVWXYZ} $\n",
    "\n",
    "Calligraphic:\n",
    "\n",
    "$\\mathcal {abcdefghijklmnopqrstuvwxyzABCDEFGHIJKLMNOPQRSTUVWXYZ} $\n",
    "\n",
    "Script:\n",
    "\n",
    "$\\mathscr {abcdefghijklmnopqrstuvwxyzABCDEFGHIJKLMNOPQRSTUVWXYZ} $\n",
    "\n",
    "\n",
    "\n",
    "\n",
    "$\\mathbb{ABCDEFGHIGKLMNOPQRSTUVWSYZ}$\n",
    "$\\mathbb{abcdefghijklmnopqrstuvwxyz}$\n",
    "$\\mathbb{0123456789}$\n"
   ]
  },
  {
   "cell_type": "markdown",
   "metadata": {},
   "source": [
    "Radical signs\n",
    "\n",
    "$ \\sqrt{x^3} x3‾‾‾√; \\sqrt[3]{\\frac xy} $"
   ]
  },
  {
   "cell_type": "markdown",
   "metadata": {},
   "source": [
    "Attaching subscripts\n",
    "\n",
    "$ \\lim: \\lim_{x\\to 0} $"
   ]
  },
  {
   "cell_type": "code",
   "execution_count": null,
   "metadata": {},
   "outputs": [],
   "source": []
  }
 ],
 "metadata": {
  "kernelspec": {
   "display_name": "Python 3",
   "language": "python",
   "name": "python3"
  },
  "language_info": {
   "codemirror_mode": {
    "name": "ipython",
    "version": 3
   },
   "file_extension": ".py",
   "mimetype": "text/x-python",
   "name": "python",
   "nbconvert_exporter": "python",
   "pygments_lexer": "ipython3",
   "version": "3.7.7"
  }
 },
 "nbformat": 4,
 "nbformat_minor": 4
}
