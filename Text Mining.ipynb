{
 "cells": [
  {
   "cell_type": "code",
   "execution_count": 1,
   "metadata": {},
   "outputs": [],
   "source": [
    "import pandas as pd\n",
    "import numpy as np\n",
    "import nltk\n",
    "import os\n",
    "import nltk.corpus"
   ]
  },
  {
   "cell_type": "code",
   "execution_count": 2,
   "metadata": {},
   "outputs": [],
   "source": [
    "alice = open('alice_in_wonderland.txt','r').read()"
   ]
  },
  {
   "cell_type": "code",
   "execution_count": 3,
   "metadata": {},
   "outputs": [],
   "source": [
    "from nltk.tokenize import word_tokenize"
   ]
  },
  {
   "cell_type": "code",
   "execution_count": 4,
   "metadata": {},
   "outputs": [],
   "source": [
    "# tokenize the text\n",
    "tokens = word_tokenize(alice)"
   ]
  },
  {
   "cell_type": "code",
   "execution_count": 5,
   "metadata": {},
   "outputs": [],
   "source": [
    "words = [word for word in tokens if word.isalpha()]"
   ]
  },
  {
   "cell_type": "markdown",
   "metadata": {},
   "source": [
    "Getting Distinct Frequency"
   ]
  },
  {
   "cell_type": "code",
   "execution_count": 6,
   "metadata": {},
   "outputs": [],
   "source": [
    "from nltk.probability import FreqDist"
   ]
  },
  {
   "cell_type": "code",
   "execution_count": 7,
   "metadata": {},
   "outputs": [],
   "source": [
    "fd = FreqDist(words)"
   ]
  },
  {
   "cell_type": "code",
   "execution_count": 8,
   "metadata": {},
   "outputs": [
    {
     "data": {
      "text/plain": [
       "FreqDist({'the': 1520, 'and': 774, 'to': 718, 'a': 611, 'it': 513, 'I': 511, 'she': 507, 'of': 496, 'said': 453, 'Alice': 396, ...})"
      ]
     },
     "execution_count": 8,
     "metadata": {},
     "output_type": "execute_result"
    }
   ],
   "source": [
    "fd"
   ]
  },
  {
   "cell_type": "markdown",
   "metadata": {},
   "source": [
    "10 Most Common Tokens"
   ]
  },
  {
   "cell_type": "code",
   "execution_count": 9,
   "metadata": {},
   "outputs": [
    {
     "data": {
      "text/plain": [
       "[('the', 1520),\n",
       " ('and', 774),\n",
       " ('to', 718),\n",
       " ('a', 611),\n",
       " ('it', 513),\n",
       " ('I', 511),\n",
       " ('she', 507),\n",
       " ('of', 496),\n",
       " ('said', 453),\n",
       " ('Alice', 396)]"
      ]
     },
     "execution_count": 9,
     "metadata": {},
     "output_type": "execute_result"
    }
   ],
   "source": [
    "fd.most_common(10)"
   ]
  },
  {
   "cell_type": "markdown",
   "metadata": {},
   "source": [
    "Stemming the tokens"
   ]
  },
  {
   "cell_type": "code",
   "execution_count": 10,
   "metadata": {},
   "outputs": [],
   "source": [
    "# the porter stemmer\n",
    "from nltk.stem import PorterStemmer"
   ]
  },
  {
   "cell_type": "code",
   "execution_count": 11,
   "metadata": {},
   "outputs": [],
   "source": [
    "pst = PorterStemmer()"
   ]
  },
  {
   "cell_type": "code",
   "execution_count": 12,
   "metadata": {},
   "outputs": [
    {
     "data": {
      "text/plain": [
       "'wait'"
      ]
     },
     "execution_count": 12,
     "metadata": {},
     "output_type": "execute_result"
    }
   ],
   "source": [
    "pst.stem(\"waiting\")"
   ]
  },
  {
   "cell_type": "code",
   "execution_count": 13,
   "metadata": {},
   "outputs": [
    {
     "name": "stdout",
     "output_type": "stream",
     "text": [
      "waited:wait\n",
      "waiting:wait\n",
      "waits:wait\n"
     ]
    }
   ],
   "source": [
    "stm = [\"waited\", \"waiting\", \"waits\"]\n",
    "for word in stm :\n",
    "   print(word+ \":\" +pst.stem(word))"
   ]
  },
  {
   "cell_type": "code",
   "execution_count": 14,
   "metadata": {},
   "outputs": [
    {
     "name": "stdout",
     "output_type": "stream",
     "text": [
      "CHAPTER:chapter\n",
      "I:I\n",
      "Down:down\n",
      "the:the\n",
      "Alice:alic\n",
      "was:wa\n",
      "beginning:begin\n",
      "to:to\n",
      "get:get\n",
      "very:veri\n",
      "tired:tire\n",
      "of:of\n",
      "sitting:sit\n",
      "by:by\n",
      "her:her\n",
      "sister:sister\n",
      "on:on\n",
      "the:the\n",
      "bank:bank\n",
      "and:and\n"
     ]
    }
   ],
   "source": [
    "for w in words[:20]:\n",
    "    print(w+ \":\" + pst.stem(w))"
   ]
  },
  {
   "cell_type": "markdown",
   "metadata": {},
   "source": [
    "the lancaster stemmer is more aggressive than the porter"
   ]
  },
  {
   "cell_type": "code",
   "execution_count": 15,
   "metadata": {},
   "outputs": [
    {
     "name": "stdout",
     "output_type": "stream",
     "text": [
      "giving:giv\n",
      "given:giv\n",
      "given:giv\n",
      "gave:gav\n"
     ]
    }
   ],
   "source": [
    "# \n",
    "from nltk.stem import LancasterStemmer\n",
    "lst = LancasterStemmer()\n",
    "stm = [\"giving\", \"given\", \"given\", \"gave\"]\n",
    "for word in stm :\n",
    " print(word+ \":\" +lst.stem(word))"
   ]
  },
  {
   "cell_type": "code",
   "execution_count": 16,
   "metadata": {},
   "outputs": [
    {
     "name": "stdout",
     "output_type": "stream",
     "text": [
      "CHAPTER:chapt\n",
      "I:i\n",
      "Down:down\n",
      "the:the\n",
      "Alice:al\n",
      "was:was\n",
      "beginning:begin\n",
      "to:to\n",
      "get:get\n",
      "very:very\n",
      "tired:tir\n",
      "of:of\n",
      "sitting:sit\n",
      "by:by\n",
      "her:her\n",
      "sister:sist\n",
      "on:on\n",
      "the:the\n",
      "bank:bank\n",
      "and:and\n"
     ]
    }
   ],
   "source": [
    "for w in words[:20]:\n",
    "    print(w+ \":\" + lst.stem(w))"
   ]
  },
  {
   "cell_type": "markdown",
   "metadata": {},
   "source": [
    "Lemmatization"
   ]
  },
  {
   "cell_type": "code",
   "execution_count": 17,
   "metadata": {},
   "outputs": [
    {
     "name": "stderr",
     "output_type": "stream",
     "text": [
      "[nltk_data] Downloading package wordnet to /Users/person/nltk_data...\n",
      "[nltk_data]   Package wordnet is already up-to-date!\n"
     ]
    },
    {
     "data": {
      "text/plain": [
       "True"
      ]
     },
     "execution_count": 17,
     "metadata": {},
     "output_type": "execute_result"
    }
   ],
   "source": [
    "from nltk.stem import WordNetLemmatizer\n",
    "lemmatizer = WordNetLemmatizer() \n",
    "nltk.download('wordnet')"
   ]
  },
  {
   "cell_type": "code",
   "execution_count": 18,
   "metadata": {},
   "outputs": [
    {
     "name": "stdout",
     "output_type": "stream",
     "text": [
      "rocks : rock\n",
      "corpora : corpus\n"
     ]
    }
   ],
   "source": [
    "print(\"rocks :\", lemmatizer.lemmatize(\"rocks\")) \n",
    "print(\"corpora :\", lemmatizer.lemmatize(\"corpora\"))"
   ]
  },
  {
   "cell_type": "code",
   "execution_count": 19,
   "metadata": {},
   "outputs": [],
   "source": [
    "from nltk.corpus import stopwords\n",
    "a = set(stopwords.words('english'))\n"
   ]
  },
  {
   "cell_type": "code",
   "execution_count": 20,
   "metadata": {},
   "outputs": [],
   "source": [
    "filteredwords = [x for x in words if x not in a]"
   ]
  },
  {
   "cell_type": "code",
   "execution_count": 21,
   "metadata": {},
   "outputs": [],
   "source": [
    "fdfw = FreqDist(filteredwords)"
   ]
  },
  {
   "cell_type": "code",
   "execution_count": 22,
   "metadata": {},
   "outputs": [],
   "source": [
    "fdfw20 = [x[0].lower() for x in fdfw.most_common(1000)[230:250]]"
   ]
  },
  {
   "cell_type": "code",
   "execution_count": 23,
   "metadata": {},
   "outputs": [
    {
     "name": "stdout",
     "output_type": "stream",
     "text": [
      "hurry hurry\n",
      "finished finished\n",
      "waited waited\n",
      "minutes minute\n",
      "game game\n",
      "hardly hardly\n",
      "makes make\n",
      "let let\n",
      "sea sea\n",
      "suppose suppose\n",
      "always always\n",
      "silence silence\n",
      "of of\n",
      "may may\n",
      "pigeon pigeon\n",
      "tea tea\n",
      "sitting sitting\n",
      "lessons lesson\n",
      "though though\n",
      "word word\n"
     ]
    }
   ],
   "source": [
    "for w in fdfw20:\n",
    "    print(w, lemmatizer.lemmatize(w))"
   ]
  },
  {
   "cell_type": "markdown",
   "metadata": {},
   "source": [
    "POS - Parts Of Speech Tagging\n"
   ]
  },
  {
   "cell_type": "code",
   "execution_count": 53,
   "metadata": {},
   "outputs": [
    {
     "name": "stderr",
     "output_type": "stream",
     "text": [
      "[nltk_data] Downloading package averaged_perceptron_tagger to\n",
      "[nltk_data]     /Users/person/nltk_data...\n",
      "[nltk_data]   Package averaged_perceptron_tagger is already up-to-\n",
      "[nltk_data]       date!\n"
     ]
    },
    {
     "data": {
      "text/plain": [
       "True"
      ]
     },
     "execution_count": 53,
     "metadata": {},
     "output_type": "execute_result"
    }
   ],
   "source": [
    "from nltk import pos_tag\n",
    "nltk.download('averaged_perceptron_tagger')"
   ]
  },
  {
   "cell_type": "code",
   "execution_count": 25,
   "metadata": {},
   "outputs": [
    {
     "data": {
      "text/plain": [
       "['Alice was beginning to get very tired of sitting by her sister on the',\n",
       " 'bank, and of having nothing to do: once or twice she had peeped into',\n",
       " 'the book her sister was reading, but it had no pictures or',\n",
       " 'conversations in it, “and what is the use of a book,” thought Alice',\n",
       " '“without pictures or conversations?”']"
      ]
     },
     "execution_count": 25,
     "metadata": {},
     "output_type": "execute_result"
    }
   ],
   "source": [
    "alice.split('\\n')[4:9]"
   ]
  },
  {
   "cell_type": "code",
   "execution_count": 26,
   "metadata": {},
   "outputs": [
    {
     "name": "stdout",
     "output_type": "stream",
     "text": [
      "[('CHAPTER', 'NN')]\n",
      "[('I', 'PRP')]\n",
      "[('Down', 'IN')]\n",
      "[('the', 'DT')]\n",
      "[('Alice', 'NN')]\n",
      "[('was', 'VBD')]\n",
      "[('beginning', 'VBG')]\n",
      "[('to', 'TO')]\n",
      "[('get', 'VB')]\n",
      "[('very', 'RB')]\n",
      "[('tired', 'VBN')]\n",
      "[('of', 'IN')]\n",
      "[('sitting', 'VBG')]\n",
      "[('by', 'IN')]\n",
      "[('her', 'PRP$')]\n",
      "[('sister', 'NN')]\n",
      "[('on', 'IN')]\n",
      "[('the', 'DT')]\n",
      "[('bank', 'NN')]\n",
      "[('and', 'CC')]\n"
     ]
    }
   ],
   "source": [
    "for token in words[:20]:\n",
    "    print(nltk.pos_tag([token]))"
   ]
  },
  {
   "cell_type": "markdown",
   "metadata": {},
   "source": [
    "Named Entity Recognition\n",
    "\n",
    "More on chunks here:\n",
    "https://www.programcreek.com/python/example/91258/nltk.ne_chunk"
   ]
  },
  {
   "cell_type": "code",
   "execution_count": 58,
   "metadata": {},
   "outputs": [],
   "source": [
    "from nltk import ne_chunk"
   ]
  },
  {
   "cell_type": "code",
   "execution_count": 28,
   "metadata": {},
   "outputs": [
    {
     "name": "stderr",
     "output_type": "stream",
     "text": [
      "[nltk_data] Downloading package maxent_ne_chunker to\n",
      "[nltk_data]     /Users/person/nltk_data...\n",
      "[nltk_data]   Package maxent_ne_chunker is already up-to-date!\n"
     ]
    },
    {
     "data": {
      "text/plain": [
       "True"
      ]
     },
     "execution_count": 28,
     "metadata": {},
     "output_type": "execute_result"
    }
   ],
   "source": [
    "nltk.download('maxent_ne_chunker')"
   ]
  },
  {
   "cell_type": "code",
   "execution_count": 29,
   "metadata": {},
   "outputs": [
    {
     "name": "stderr",
     "output_type": "stream",
     "text": [
      "[nltk_data] Downloading package words to /Users/person/nltk_data...\n",
      "[nltk_data]   Package words is already up-to-date!\n"
     ]
    },
    {
     "data": {
      "text/plain": [
       "True"
      ]
     },
     "execution_count": 29,
     "metadata": {},
     "output_type": "execute_result"
    }
   ],
   "source": [
    "nltk.download('words')"
   ]
  },
  {
   "cell_type": "code",
   "execution_count": 30,
   "metadata": {},
   "outputs": [
    {
     "data": {
      "text/plain": [
       "['Alice was beginning to get very tired of sitting by her sister on the',\n",
       " 'bank, and of having nothing to do: once or twice she had peeped into',\n",
       " 'the book her sister was reading, but it had no pictures or',\n",
       " 'conversations in it, “and what is the use of a book,” thought Alice',\n",
       " '“without pictures or conversations?”']"
      ]
     },
     "execution_count": 30,
     "metadata": {},
     "output_type": "execute_result"
    }
   ],
   "source": [
    "alice.split('\\n')[4:9]"
   ]
  },
  {
   "cell_type": "code",
   "execution_count": 42,
   "metadata": {},
   "outputs": [
    {
     "name": "stdout",
     "output_type": "stream",
     "text": [
      "Alice was beginning to get very tired of sitting by her sister on the\n",
      "bank, and of having nothing to do: once or twice she had peeped into\n",
      "the book her sister was reading, but it had no pictures or\n",
      "conversations in it, “and what is the use of a book,” thought Alice\n",
      "“without pictures or conversations?”\n"
     ]
    }
   ],
   "source": [
    "[print(x) for x in alice.split('\\n')[4:9]]"
   ]
  },
  {
   "cell_type": "code",
   "execution_count": 46,
   "metadata": {},
   "outputs": [],
   "source": [
    "alicetext = \"Alice was beginning to get very tired of sitting by her sister on the bank, and of having nothing to do: once or twice she had peeped into the book her sister was reading, but it had no pictures or conversations in it, “and what is the use of a book,” thought Alice“without pictures or conversations?”\""
   ]
  },
  {
   "cell_type": "code",
   "execution_count": 47,
   "metadata": {},
   "outputs": [],
   "source": [
    "token = word_tokenize(alicetext) \n",
    "tags = nltk.pos_tag(token)\n",
    "chunk = ne_chunk(tags)"
   ]
  },
  {
   "cell_type": "code",
   "execution_count": 48,
   "metadata": {},
   "outputs": [
    {
     "data": {
      "image/png": "[encoded data removed]",
      "text/plain": [
       "Tree('S', [Tree('GPE', [('Alice', 'NNP')]), ('was', 'VBD'), ('beginning', 'VBG'), ('to', 'TO'), ('get', 'VB'), ('very', 'RB'), ('tired', 'JJ'), ('of', 'IN'), ('sitting', 'VBG'), ('by', 'IN'), ('her', 'PRP$'), ('sister', 'NN'), ('on', 'IN'), ('the', 'DT'), ('bank', 'NN'), (',', ','), ('and', 'CC'), ('of', 'IN'), ('having', 'VBG'), ('nothing', 'NN'), ('to', 'TO'), ('do', 'VB'), (':', ':'), ('once', 'RB'), ('or', 'CC'), ('twice', 'VB'), ('she', 'PRP'), ('had', 'VBD'), ('peeped', 'VBN'), ('into', 'IN'), ('the', 'DT'), ('book', 'NN'), ('her', 'PRP$'), ('sister', 'NN'), ('was', 'VBD'), ('reading', 'VBG'), (',', ','), ('but', 'CC'), ('it', 'PRP'), ('had', 'VBD'), ('no', 'DT'), ('pictures', 'NNS'), ('or', 'CC'), ('conversations', 'NNS'), ('in', 'IN'), ('it', 'PRP'), (',', ','), ('“', 'NNP'), ('and', 'CC'), ('what', 'WP'), ('is', 'VBZ'), ('the', 'DT'), ('use', 'NN'), ('of', 'IN'), ('a', 'DT'), ('book', 'NN'), (',', ','), ('”', 'NNP'), ('thought', 'VBD'), Tree('PERSON', [('Alice', 'NNP')]), ('“', 'NNP'), ('without', 'IN'), ('pictures', 'NNS'), ('or', 'CC'), ('conversations', 'NNS'), ('?', '.'), ('”', 'NN')])"
      ]
     },
     "execution_count": 48,
     "metadata": {},
     "output_type": "execute_result"
    }
   ],
   "source": [
    "chunk"
   ]
  },
  {
   "cell_type": "code",
   "execution_count": 49,
   "metadata": {},
   "outputs": [],
   "source": [
    "from nltk.tree import Tree"
   ]
  },
  {
   "cell_type": "code",
   "execution_count": 50,
   "metadata": {},
   "outputs": [],
   "source": [
    "def get_continuous_chunks(text):\n",
    "    chunked = ne_chunk(pos_tag(word_tokenize(text)))\n",
    "    continuous_chunk = []\n",
    "    current_chunk = []\n",
    "    for i in chunked:\n",
    "            if type(i) == Tree:\n",
    "                current_chunk.append(\" \".join([token for token, pos in i.leaves()]))\n",
    "                if current_chunk:\n",
    "                    named_entity = \" \".join(current_chunk)\n",
    "                    if named_entity not in continuous_chunk:\n",
    "                        continuous_chunk.append(named_entity)\n",
    "                        current_chunk = []\n",
    "                else:\n",
    "                    continue\n",
    "    return continuous_chunk"
   ]
  },
  {
   "cell_type": "code",
   "execution_count": 57,
   "metadata": {},
   "outputs": [
    {
     "data": {
      "text/plain": [
       "['Alice',\n",
       " 'White Rabbit',\n",
       " 'Rabbit',\n",
       " 'Rabbit Alice',\n",
       " 'Alice ORANGE',\n",
       " 'Which',\n",
       " 'Alice Latitude',\n",
       " 'Alice Latitude Longitude',\n",
       " 'Please',\n",
       " 'Ma',\n",
       " 'Australia',\n",
       " 'Dinah',\n",
       " 'Dinah Dinah',\n",
       " 'Dinah Alice',\n",
       " 'White Rabbit Rabbit',\n",
       " 'Alice Alice',\n",
       " 'Alice Alice Alice',\n",
       " 'Alice Alice EAT',\n",
       " 'Alice Alice Pool',\n",
       " 'Tears',\n",
       " 'Alice English',\n",
       " 'Right Foot',\n",
       " 'Hearthrug',\n",
       " 'Fender',\n",
       " 'Poor Alice',\n",
       " 'Alice White Rabbit',\n",
       " 'Duchess',\n",
       " 'Duchess Rabbit',\n",
       " 'Rabbit Alice Ada',\n",
       " 'Mabel',\n",
       " '_I',\n",
       " 'Multiplication Table',\n",
       " 'Geography',\n",
       " 'London',\n",
       " 'Paris',\n",
       " 'Paris Rome',\n",
       " 'Mabel How',\n",
       " 'How',\n",
       " 'Mabel Rabbit',\n",
       " 'How Alice',\n",
       " 'Alice English Alice',\n",
       " 'O Mouse',\n",
       " 'Alice Latin Grammar',\n",
       " 'Mouse',\n",
       " 'English',\n",
       " 'Alice French',\n",
       " 'William',\n",
       " 'Alice French Mouse',\n",
       " 'Mouse Mouse',\n",
       " 'Mouse _I_',\n",
       " 'Don',\n",
       " 'Alice Are',\n",
       " 'Mouse Alice',\n",
       " 'Mouse Mouse Mouse',\n",
       " 'Alice Eaglet',\n",
       " 'Alice III',\n",
       " 'Long',\n",
       " 'Lory',\n",
       " 'Mouse Mouse Alice',\n",
       " 'Ahem',\n",
       " 'Mouse William',\n",
       " 'Conqueror',\n",
       " 'English Edwin',\n",
       " 'Morcar',\n",
       " 'Mercia',\n",
       " 'Lory Mouse',\n",
       " 'Mouse Edwin',\n",
       " 'Morcar Mercia',\n",
       " 'Northumbria',\n",
       " 'Stigand',\n",
       " 'Canterbury',\n",
       " 'Duck',\n",
       " 'Found',\n",
       " 'Mouse _I_ Mouse',\n",
       " 'Edgar Atheling',\n",
       " 'William William',\n",
       " 'Dodo',\n",
       " 'Eaglet',\n",
       " 'Eaglet Dodo',\n",
       " 'Alice Dodo',\n",
       " 'Dodo Dodo',\n",
       " 'Dodo Dodo Shakespeare',\n",
       " 'Dodo Dodo Alice',\n",
       " 'Mouse Dodo',\n",
       " 'Alice Dodo Dodo',\n",
       " 'Alice Mouse',\n",
       " 'Alice D',\n",
       " 'Mine',\n",
       " 'Mouse Alice Alice',\n",
       " 'Mouse Mouse Fury',\n",
       " 'Mouse Alice Mouse',\n",
       " 'Alice Mouse Mouse',\n",
       " 'Mouse Lory',\n",
       " 'Crab',\n",
       " 'Ma Crab',\n",
       " 'Alice Dinah',\n",
       " 'Alice Dinah Magpie',\n",
       " 'Come',\n",
       " 'Alice Dinah Mouse',\n",
       " 'Rabbit Sends',\n",
       " 'White Rabbit Duchess',\n",
       " 'Duchess Rabbit Mary Ann',\n",
       " 'Quick',\n",
       " 'Alice RABBIT',\n",
       " 'Ann',\n",
       " 'Dinah Mary Ann',\n",
       " 'Alice Rabbit',\n",
       " 'Rabbit Rabbit',\n",
       " 'Alice Alice Rabbit',\n",
       " 'Next',\n",
       " 'Rabbit Pat',\n",
       " 'Rabbit Sounds',\n",
       " 'Pat',\n",
       " 'Bill',\n",
       " 'Bill Bill',\n",
       " '_I_',\n",
       " 'Bill Bill Alice',\n",
       " 'Bill Bill Bill',\n",
       " 'Bill Rabbit',\n",
       " 'Bill Rabbit Alice',\n",
       " 'Dinah Alice Alice',\n",
       " 'Rabbit Alice Lizard',\n",
       " 'Bill Alice',\n",
       " 'Alice Alice Alice Caterpillar',\n",
       " 'Alice Caterpillar',\n",
       " 'Caterpillar',\n",
       " 'Alice Caterpillar Explain',\n",
       " 'Alice Caterpillar Caterpillar',\n",
       " 'Alice Caterpillar Alice',\n",
       " 'Caterpillar Which',\n",
       " 'Alice Caterpillar Caterpillar Alice',\n",
       " 'Caterpillar Come',\n",
       " 'Caterpillar Caterpillar',\n",
       " 'Alice Caterpillar Alice Alice',\n",
       " 'Caterpillar Father William_',\n",
       " 'Caterpillar Alice',\n",
       " 'Father William',\n",
       " 'Father William Pray',\n",
       " 'Pray',\n",
       " 'Has',\n",
       " 'Caterpillar Alice Caterpillar',\n",
       " 'Caterpillar Caterpillar Alice',\n",
       " 'Caterpillar Alice Caterpillar Caterpillar',\n",
       " 'Alice Caterpillar Caterpillar Alice Alice',\n",
       " 'Pigeon',\n",
       " 'Alice Pigeon',\n",
       " 'Alice Pigeon Pigeon',\n",
       " 'Pigeon Alice',\n",
       " 'Pigeon Serpent',\n",
       " 'Alice Pigeon Alice',\n",
       " 'Pigeon Alice Pigeon',\n",
       " 'Alice Alice Pigeon',\n",
       " 'Alice Whoever',\n",
       " 'Pig',\n",
       " 'Pepper',\n",
       " 'Alice Duchess',\n",
       " 'Duchess Alice',\n",
       " 'Alice Footman',\n",
       " 'Alice Footman Footman',\n",
       " 'Footman',\n",
       " 'Footman Footman',\n",
       " 'Alice Footman Alice',\n",
       " 'Footman Alice',\n",
       " 'Duchess Alice Duchess',\n",
       " 'Alice Cheshire',\n",
       " 'Duchess Cheshire',\n",
       " 'Duchess Duchess',\n",
       " 'Duchess Duchess Duchess',\n",
       " 'Alice Duchess Duchess',\n",
       " 'Speak',\n",
       " 'CHORUS',\n",
       " 'Duchess Alice CHORUS',\n",
       " 'Duchess Alice Alice',\n",
       " 'Don Alice',\n",
       " 'Alice Alice Alice Alice',\n",
       " 'Cheshire',\n",
       " 'Cat',\n",
       " 'Cheshire Puss',\n",
       " 'Come Cat',\n",
       " 'Alice Cat',\n",
       " 'Cat Cat',\n",
       " 'Visit',\n",
       " 'Alice Cat Cat',\n",
       " 'Alice Cat Alice',\n",
       " 'Cat Alice',\n",
       " 'Cat Alice Cat',\n",
       " 'Cat Alice Hare',\n",
       " 'Cat Cat Alice',\n",
       " 'Cat Alice CHAPTER',\n",
       " 'Dormouse',\n",
       " 'Dormouse Alice',\n",
       " 'Alice Hare',\n",
       " 'Alice Alice Alice Alice Hatter',\n",
       " 'Alice Hare Dormouse',\n",
       " 'Hatter',\n",
       " 'Alice Hatter',\n",
       " 'Alice Hatter Hare',\n",
       " 'Does',\n",
       " 'Alice Hatter English',\n",
       " 'Dormouse Hatter',\n",
       " 'Dormouse Hatter Alice',\n",
       " 'Hatter Alice',\n",
       " 'Hatter Time',\n",
       " 'Hare',\n",
       " 'Alice Hatter Hearts',\n",
       " 'Alice Hatter Twinkle',\n",
       " 'Dormouse _Twinkle',\n",
       " 'Hatter Queen',\n",
       " 'Hatter Alice Alice',\n",
       " 'Hare Alice',\n",
       " 'Dormouse Dormouse',\n",
       " 'Dormouse Hatter Dormouse',\n",
       " 'Elsie',\n",
       " 'Lacie',\n",
       " 'Tillie',\n",
       " 'Alice Dormouse',\n",
       " 'Dormouse Hare',\n",
       " 'Alice Alice Hatter',\n",
       " 'Alice Dormouse Dormouse',\n",
       " 'Hatter Hare',\n",
       " 'Dormouse Alice Dormouse',\n",
       " 'Alice Treacle',\n",
       " 'Dormouse Dormouse Hare',\n",
       " 'Dormouse Hatter Alice Hare',\n",
       " 'Alice Dormouse Hatter',\n",
       " 'Dormouse Dormouse Dormouse',\n",
       " 'Dormouse Alice Alice',\n",
       " 'Dormouse Hatter Alice Dormouse',\n",
       " 'Dormouse Alice VIII',\n",
       " 'Queen',\n",
       " 'Alice Seven',\n",
       " 'Seven',\n",
       " 'Five',\n",
       " 'Always',\n",
       " '_You',\n",
       " 'Five Seven',\n",
       " 'Alice Seven Miss',\n",
       " 'Queen Miss',\n",
       " 'Alice First',\n",
       " 'Next Kings',\n",
       " 'Queens',\n",
       " 'White Rabbit Knave',\n",
       " 'Hearts',\n",
       " 'THE',\n",
       " 'KING',\n",
       " 'Alice Alice Queen',\n",
       " 'Knave',\n",
       " 'Hearts Idiot',\n",
       " 'Alice Alice Alice Queen',\n",
       " 'Alice Queen',\n",
       " 'Queen Knave',\n",
       " 'Knave Alice',\n",
       " 'Alice Come',\n",
       " 'Alice White Rabbit Alice',\n",
       " 'Duchess Hush',\n",
       " 'Rabbit Alice Rabbit',\n",
       " 'Alice Queen Rabbit',\n",
       " 'Alice Rabbit Queen',\n",
       " 'Alice Alice Queen Alice',\n",
       " 'Cheshire Cat',\n",
       " 'Alice Alice Cat',\n",
       " 'Queen Cat',\n",
       " 'Alice Queen Queen',\n",
       " 'Alice Cat Cheshire Cat',\n",
       " 'Alice Cat Don',\n",
       " 'Alice Queen Alice',\n",
       " 'Queen Cheshire Cat',\n",
       " 'Alice Queen Duchess',\n",
       " 'Queen Cat Duchess',\n",
       " 'Mock Turtle',\n",
       " 'Story',\n",
       " 'Duchess Alice Alice _I',\n",
       " 'Duchess Soup',\n",
       " 'Duchess Duchess Alice',\n",
       " 'Duchess Duchess Duchess Alice',\n",
       " 'Duchess Duchess Birds',\n",
       " 'Duchess Alice Duchess Alice',\n",
       " 'Duchess Alice Duchess Alice Duchess',\n",
       " 'Duchess Alice Duchess Duchess',\n",
       " 'Alice Duchess Duchess Queen',\n",
       " 'Alice Alice Queen Alice Queen',\n",
       " 'Alice Mock Turtle',\n",
       " 'Alice Mock Turtle Mock Turtle Soup',\n",
       " 'Alice Come Alice',\n",
       " 'Queen Gryphon',\n",
       " 'Gryphon',\n",
       " 'Mock Turtle Gryphon',\n",
       " 'Alice Gryphon',\n",
       " 'Gryphon Alice',\n",
       " 'Gryphon Mock Turtle',\n",
       " 'Alice Gryphon Gryphon',\n",
       " 'Mock Turtle Gryphon Mock Turtle',\n",
       " 'Alice Mock Turtle Gryphon',\n",
       " 'Mock Turtle Alice',\n",
       " 'Mock Turtle Mock Turtle',\n",
       " 'Gryphon Gryphon',\n",
       " 'Mock Turtle Don',\n",
       " 'Mock Turtle Gryphon Mock Turtle Alice',\n",
       " 'Mock',\n",
       " 'Alice French Mock Turtle',\n",
       " 'Alice Mock Turtle French',\n",
       " 'Alice Mock Turtle Writhing',\n",
       " 'Mock Turtle Distraction',\n",
       " 'Uglification',\n",
       " 'Gryphon Alice Gryphon',\n",
       " 'Mock Turtle Mystery',\n",
       " 'Mock Turtle Seaography',\n",
       " 'Stretching',\n",
       " 'Alice Mock Turtle Gryphon Gryphon',\n",
       " 'Classics',\n",
       " 'Mock Turtle Grief',\n",
       " 'Gryphon Alice Mock Turtle',\n",
       " 'Gryphon Alice Mock Turtle Gryphon',\n",
       " 'CHAPTER X',\n",
       " 'Lobster',\n",
       " 'Mock Turtle Alice Gryphon',\n",
       " 'Mock Turtle Alice Alice',\n",
       " 'Gryphon Mock Turtle Gryphon',\n",
       " 'Gryphon Mock Turtle Gryphon Mock Turtle',\n",
       " 'Gryphon Gryphon Turn',\n",
       " 'Mock Turtle Gryphon Back',\n",
       " 'Mock Turtle Alice Alice Mock Turtle',\n",
       " 'Alice Come Mock Turtle',\n",
       " 'Gryphon Which',\n",
       " 'Gryphon Mock Turtle England',\n",
       " 'Alice Mock Turtle Alice',\n",
       " 'Dinn',\n",
       " 'Mock Turtle Mock Turtle Mock Turtle',\n",
       " 'Gryphon Gryphon Alice',\n",
       " 'Gryphon Alice Gryphon Alice',\n",
       " 'Gryphon Gryphon Soles',\n",
       " 'Gryphon Alice Mock Turtle Mock Turtle',\n",
       " 'Alice Mock Turtle Gryphon Mock Turtle',\n",
       " 'Gryphon White Rabbit',\n",
       " 'Father William_',\n",
       " 'Caterpillar Mock Turtle',\n",
       " 'Gryphon Mock Turtle Gryphon Stand',\n",
       " 'Gryphon Alice Lobster Quadrille',\n",
       " 'Lobster Shark',\n",
       " 'Gryphon Mock Turtle Mock Turtle',\n",
       " 'Gryphon Mock Turtle Gryphon Owl',\n",
       " 'Panther',\n",
       " 'Owl',\n",
       " 'Owl Was',\n",
       " 'Panther Mock Turtle',\n",
       " 'Gryphon Alice Lobster Quadrille Gryphon',\n",
       " 'Mock Turtle Mock Turtle Gryphon',\n",
       " '_Turtle Soup_',\n",
       " 'Mock Turtle Beautiful Soup',\n",
       " 'Beautiful',\n",
       " 'Beautiful Soup',\n",
       " 'Game',\n",
       " 'Beautiful SOUP',\n",
       " 'Gryphon Mock Turtle Come',\n",
       " 'Gryphon Gryphon Beautiful',\n",
       " 'CHAPTER',\n",
       " 'Hearts Knave',\n",
       " 'White Rabbit Alice',\n",
       " 'King',\n",
       " 'Gryphon Gryphon White Rabbit',\n",
       " 'Alice Bill',\n",
       " 'Lizard',\n",
       " 'Herald',\n",
       " 'White Rabbit Hearts',\n",
       " 'Knave Hearts',\n",
       " 'Rabbit King',\n",
       " 'White Rabbit Hatter',\n",
       " 'Dormouse Dormouse Write',\n",
       " '_Stolen',\n",
       " 'Hatter Hatter',\n",
       " 'King Alice',\n",
       " 'Dormouse Alice Dormouse Don',\n",
       " '_I_ Dormouse',\n",
       " 'Queen Hatter',\n",
       " 'Dormouse Hatter Hatter',\n",
       " 'Hatter Hatter Dormouse',\n",
       " 'Hatter Dormouse',\n",
       " 'Hatter Dormouse Hatter',\n",
       " 'Hatter Queen Hatter',\n",
       " 'Duchess Alice Shan',\n",
       " 'White Rabbit Treacle',\n",
       " 'Collar',\n",
       " 'Dormouse Queen',\n",
       " 'Behead',\n",
       " 'Dormouse Dormouse Dormouse White Rabbit',\n",
       " 'Imagine',\n",
       " 'White Rabbit CHAPTER',\n",
       " 'Evidence',\n",
       " 'Alice Alice Lizard',\n",
       " 'Lizard Alice',\n",
       " 'Alice White Rabbit _Un_important',\n",
       " 'Majesty',\n",
       " '_Un_important',\n",
       " 'Alice Alice Alice Number One',\n",
       " 'Alice White Rabbit White Rabbit',\n",
       " 'White Rabbit White Rabbit',\n",
       " 'Knave Alice White Rabbit',\n",
       " 'White Rabbit Him',\n",
       " 'Don Between',\n",
       " 'Alice Knave',\n",
       " 'Alice Lizard',\n",
       " 'Bill No',\n",
       " 'Alice Alice Queen Nobody',\n",
       " 'Alice Alice Alice White Rabbit',\n",
       " 'Mouse Duchess',\n",
       " 'Gryphon Lizard',\n",
       " 'Mock Turtle Wonderland',\n",
       " 'Queen Gryphon Mock Turtle',\n",
       " 'Wonderland',\n",
       " 'END']"
      ]
     },
     "execution_count": 57,
     "metadata": {},
     "output_type": "execute_result"
    }
   ],
   "source": [
    "get_continuous_chunks(alice)"
   ]
  },
  {
   "cell_type": "markdown",
   "metadata": {},
   "source": [
    "More Chunking\n"
   ]
  },
  {
   "cell_type": "code",
   "execution_count": 60,
   "metadata": {},
   "outputs": [],
   "source": [
    "reg = \"NP: {<DT>?<JJ>*<NN>}\"\n",
    "a = nltk.RegexpParser(reg)\n",
    "result = a.parse(tags)"
   ]
  },
  {
   "cell_type": "code",
   "execution_count": 62,
   "metadata": {},
   "outputs": [
    {
     "name": "stdout",
     "output_type": "stream",
     "text": [
      "(S\n",
      "  Alice/NNP\n",
      "  was/VBD\n",
      "  beginning/VBG\n",
      "  to/TO\n",
      "  get/VB\n",
      "  very/RB\n",
      "  tired/JJ\n",
      "  of/IN\n",
      "  sitting/VBG\n",
      "  by/IN\n",
      "  her/PRP$\n",
      "  (NP sister/NN)\n",
      "  on/IN\n",
      "  (NP the/DT bank/NN)\n",
      "  ,/,\n",
      "  and/CC\n",
      "  of/IN\n",
      "  having/VBG\n",
      "  (NP nothing/NN)\n",
      "  to/TO\n",
      "  do/VB\n",
      "  :/:\n",
      "  once/RB\n",
      "  or/CC\n",
      "  twice/VB\n",
      "  she/PRP\n",
      "  had/VBD\n",
      "  peeped/VBN\n",
      "  into/IN\n",
      "  (NP the/DT book/NN)\n",
      "  her/PRP$\n",
      "  (NP sister/NN)\n",
      "  was/VBD\n",
      "  reading/VBG\n",
      "  ,/,\n",
      "  but/CC\n",
      "  it/PRP\n",
      "  had/VBD\n",
      "  no/DT\n",
      "  pictures/NNS\n",
      "  or/CC\n",
      "  conversations/NNS\n",
      "  in/IN\n",
      "  it/PRP\n",
      "  ,/,\n",
      "  “/NNP\n",
      "  and/CC\n",
      "  what/WP\n",
      "  is/VBZ\n",
      "  (NP the/DT use/NN)\n",
      "  of/IN\n",
      "  (NP a/DT book/NN)\n",
      "  ,/,\n",
      "  ”/NNP\n",
      "  thought/VBD\n",
      "  Alice/NNP\n",
      "  “/NNP\n",
      "  without/IN\n",
      "  pictures/NNS\n",
      "  or/CC\n",
      "  conversations/NNS\n",
      "  ?/.\n",
      "  (NP ”/NN))\n"
     ]
    }
   ],
   "source": [
    "print(result)"
   ]
  },
  {
   "cell_type": "code",
   "execution_count": null,
   "metadata": {},
   "outputs": [],
   "source": []
  }
 ],
 "metadata": {
  "kernelspec": {
   "display_name": "Python 3",
   "language": "python",
   "name": "python3"
  },
  "language_info": {
   "codemirror_mode": {
    "name": "ipython",
    "version": 3
   },
   "file_extension": ".py",
   "mimetype": "text/x-python",
   "name": "python",
   "nbconvert_exporter": "python",
   "pygments_lexer": "ipython3",
   "version": "3.7.7"
  }
 },
 "nbformat": 4,
 "nbformat_minor": 4
}
