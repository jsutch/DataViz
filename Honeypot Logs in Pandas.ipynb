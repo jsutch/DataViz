{
 "cells": [
  {
   "cell_type": "code",
   "execution_count": 1,
   "metadata": {},
   "outputs": [],
   "source": [
    "import pandas as pd\n",
    "import json"
   ]
  },
  {
   "cell_type": "markdown",
   "metadata": {},
   "source": [
    "From https://www.alexkras.com/crunching-honeypot-ip-data-with-pandas-and-python/\n",
    "\n",
    "More data at https://github.com/akras14/codepath9/"
   ]
  },
  {
   "cell_type": "code",
   "execution_count": 2,
   "metadata": {},
   "outputs": [],
   "source": [
    "# https://www.alexkras.com/crunching-honeypot-ip-data-with-pandas-and-python/\n",
    "# Load data, can be found at https://github.com/akras14/codepath9/blob/master/session.json\n",
    "with open(\"session.json\") as f:\n",
    "    data = f.read()\n",
    "    data = data.split(\"\\n\")\n",
    "    data.pop() # Drop last empty element\n",
    "    data = [json.loads(d) for d in data]"
   ]
  },
  {
   "cell_type": "code",
   "execution_count": 4,
   "metadata": {},
   "outputs": [
    {
     "data": {
      "text/plain": [
       "{'_id': {'$oid': '5ac00385616a1e781bfa54b3'},\n",
       " 'protocol': 'httpd',\n",
       " 'hpfeed_id': {'$oid': '5ac00383616a1e781bfa54b2'},\n",
       " 'timestamp': {'$date': '2018-03-31T21:54:11.887+0000'},\n",
       " 'source_ip': '199.201.64.145',\n",
       " 'source_port': 38877,\n",
       " 'destination_port': 80,\n",
       " 'identifier': 'e8351d14-352d-11e8-a320-42010a800002',\n",
       " 'honeypot': 'dionaea'}"
      ]
     },
     "execution_count": 4,
     "metadata": {},
     "output_type": "execute_result"
    }
   ],
   "source": [
    "data[0]"
   ]
  },
  {
   "cell_type": "code",
   "execution_count": 5,
   "metadata": {},
   "outputs": [
    {
     "data": {
      "text/plain": [
       "_id                      {'$oid': '5ac00385616a1e781bfa54b3'}\n",
       "destination_ip                                            NaN\n",
       "destination_port                                           80\n",
       "honeypot                                              dionaea\n",
       "hpfeed_id                {'$oid': '5ac00383616a1e781bfa54b2'}\n",
       "identifier               e8351d14-352d-11e8-a320-42010a800002\n",
       "protocol                                                httpd\n",
       "sensor                                                    NaN\n",
       "source_ip                                      199.201.64.145\n",
       "source_port                                             38877\n",
       "suricata                                                  NaN\n",
       "timestamp           {'$date': '2018-03-31T21:54:11.887+0000'}\n",
       "Name: 0, dtype: object"
      ]
     },
     "execution_count": 5,
     "metadata": {},
     "output_type": "execute_result"
    }
   ],
   "source": [
    "# Load data into Pandas DataFrame\n",
    "df = pd.DataFrame.from_dict(data)\n",
    "df.iloc[0] # Show first item in dataframe"
   ]
  },
  {
   "cell_type": "code",
   "execution_count": 6,
   "metadata": {},
   "outputs": [
    {
     "data": {
      "text/plain": [
       "{'10.128.0.8': 4457,\n",
       " '199.201.64.145': 1965,\n",
       " '5.188.11.145': 1295,\n",
       " '199.201.64.139': 992,\n",
       " '191.101.167.7': 764,\n",
       " '5.62.39.237': 658,\n",
       " '5.62.43.21': 657,\n",
       " '77.72.85.25': 512,\n",
       " '5.188.9.25': 441,\n",
       " '5.188.11.63': 410}"
      ]
     },
     "execution_count": 6,
     "metadata": {},
     "output_type": "execute_result"
    }
   ],
   "source": [
    "# Show top 10 IPs and attack count\n",
    "most_common = df['source_ip'].value_counts()[:10]\n",
    "# and\n",
    "most_common.to_dict()"
   ]
  },
  {
   "cell_type": "code",
   "execution_count": 8,
   "metadata": {},
   "outputs": [
    {
     "name": "stdout",
     "output_type": "stream",
     "text": [
      "10.128.0.8 ['suricata']\n",
      "199.201.64.145 ['dionaea']\n",
      "5.188.11.145 ['dionaea']\n",
      "199.201.64.139 ['dionaea']\n",
      "191.101.167.7 ['dionaea']\n",
      "5.62.39.237 ['dionaea']\n",
      "5.62.43.21 ['dionaea']\n",
      "77.72.85.25 ['dionaea']\n",
      "5.188.9.25 ['dionaea' 'p0f' 'suricata']\n",
      "5.188.11.63 ['dionaea' 'p0f' 'suricata']\n"
     ]
    }
   ],
   "source": [
    "# Show attacks for most common IPs\n",
    "for ip in most_common.to_dict():\n",
    "     print (ip, df[df['source_ip'] == ip]['honeypot'].unique())"
   ]
  },
  {
   "cell_type": "code",
   "execution_count": 13,
   "metadata": {},
   "outputs": [
    {
     "data": {
      "text/plain": [
       "dionaea         21657\n",
       "suricata         5454\n",
       "p0f              2403\n",
       "elastichoney        6\n",
       "Name: honeypot, dtype: int64"
      ]
     },
     "execution_count": 13,
     "metadata": {},
     "output_type": "execute_result"
    }
   ],
   "source": [
    "# Show All attacks that took place\n",
    "df['honeypot'].value_counts()"
   ]
  },
  {
   "cell_type": "code",
   "execution_count": 12,
   "metadata": {},
   "outputs": [
    {
     "data": {
      "text/plain": [
       "array(['125.212.217.215', '221.229.204.122', '216.218.206.68',\n",
       "       '211.23.154.138'], dtype=object)"
      ]
     },
     "execution_count": 12,
     "metadata": {},
     "output_type": "execute_result"
    }
   ],
   "source": [
    "# Show all IPs for elastichoney attack\n",
    "df[df['honeypot'] == 'elastichoney']['source_ip'].unique()"
   ]
  },
  {
   "cell_type": "code",
   "execution_count": 11,
   "metadata": {},
   "outputs": [
    {
     "name": "stdout",
     "output_type": "stream",
     "text": [
      "125.212.217.215\n",
      "dionaea         9\n",
      "p0f             5\n",
      "elastichoney    3\n",
      "Name: honeypot, dtype: int64\n",
      "\n",
      "\n",
      "221.229.204.122\n",
      "dionaea         32\n",
      "p0f              1\n",
      "elastichoney     1\n",
      "Name: honeypot, dtype: int64\n",
      "\n",
      "\n",
      "216.218.206.68\n",
      "dionaea         2\n",
      "elastichoney    1\n",
      "Name: honeypot, dtype: int64\n",
      "\n",
      "\n",
      "211.23.154.138\n",
      "dionaea         9\n",
      "p0f             4\n",
      "elastichoney    1\n",
      "Name: honeypot, dtype: int64\n",
      "\n",
      "\n"
     ]
    }
   ],
   "source": [
    "# Types of attacks for each elastichoney IP found\n",
    "for ip in df[df['honeypot'] == 'elastichoney']['source_ip'].unique():\n",
    "    print(ip)\n",
    "    print(df[df['source_ip'] == ip]['honeypot'].value_counts())\n",
    "    print(\"\\n\")"
   ]
  },
  {
   "cell_type": "code",
   "execution_count": 15,
   "metadata": {},
   "outputs": [],
   "source": [
    "testseries = df['honeypot']\n"
   ]
  },
  {
   "cell_type": "code",
   "execution_count": 26,
   "metadata": {},
   "outputs": [],
   "source": [
    "testseries1 = testseries.unique()"
   ]
  },
  {
   "cell_type": "code",
   "execution_count": 30,
   "metadata": {},
   "outputs": [
    {
     "data": {
      "text/plain": [
       "[('dionaea', 'p0f'),\n",
       " ('dionaea', 'suricata'),\n",
       " ('dionaea', 'elastichoney'),\n",
       " ('p0f', 'suricata'),\n",
       " ('p0f', 'elastichoney'),\n",
       " ('suricata', 'elastichoney')]"
      ]
     },
     "execution_count": 30,
     "metadata": {},
     "output_type": "execute_result"
    }
   ],
   "source": [
    "from itertools import combinations \n",
    "\n",
    "list(combinations(testseries1,2))"
   ]
  },
  {
   "cell_type": "code",
   "execution_count": 31,
   "metadata": {},
   "outputs": [],
   "source": [
    "testseries2= pd.Series(['A','B','C','D'])"
   ]
  },
  {
   "cell_type": "code",
   "execution_count": 1,
   "metadata": {},
   "outputs": [
    {
     "ename": "NameError",
     "evalue": "name 'combinations' is not defined",
     "output_type": "error",
     "traceback": [
      "\u001b[0;31m---------------------------------------------------------------------------\u001b[0m",
      "\u001b[0;31mNameError\u001b[0m                                 Traceback (most recent call last)",
      "\u001b[0;32m<ipython-input-1-83fa13c2a8e1>\u001b[0m in \u001b[0;36m<module>\u001b[0;34m\u001b[0m\n\u001b[0;32m----> 1\u001b[0;31m \u001b[0mlist\u001b[0m\u001b[0;34m(\u001b[0m\u001b[0mcombinations\u001b[0m\u001b[0;34m(\u001b[0m\u001b[0mtestseries2\u001b[0m\u001b[0;34m,\u001b[0m\u001b[0;36m2\u001b[0m\u001b[0;34m)\u001b[0m\u001b[0;34m)\u001b[0m\u001b[0;34m\u001b[0m\u001b[0;34m\u001b[0m\u001b[0m\n\u001b[0m",
      "\u001b[0;31mNameError\u001b[0m: name 'combinations' is not defined"
     ]
    }
   ],
   "source": [
    "list(combinations(testseries2,2))"
   ]
  },
  {
   "cell_type": "code",
   "execution_count": null,
   "metadata": {},
   "outputs": [],
   "source": []
  }
 ],
 "metadata": {
  "kernelspec": {
   "display_name": "Python 3",
   "language": "python",
   "name": "python3"
  },
  "language_info": {
   "codemirror_mode": {
    "name": "ipython",
    "version": 3
   },
   "file_extension": ".py",
   "mimetype": "text/x-python",
   "name": "python",
   "nbconvert_exporter": "python",
   "pygments_lexer": "ipython3",
   "version": "3.7.7"
  }
 },
 "nbformat": 4,
 "nbformat_minor": 2
}
